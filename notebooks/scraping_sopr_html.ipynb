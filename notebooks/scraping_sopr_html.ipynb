{
 "metadata": {
  "name": "",
  "signature": "sha256:8f03da7ceaa80567346c4db4ad9ae36fd23d990ff819f9e84f69cfd18fa06538"
 },
 "nbformat": 3,
 "nbformat_minor": 0,
 "worksheets": [
  {
   "cells": [
    {
     "cell_type": "code",
     "collapsed": false,
     "input": [
      "import json\n",
      "import os\n",
      "import re\n",
      "import sys\n",
      "import urlparse\n",
      "\n",
      "sys.path.append(os.path.join(os.getcwd(),os.path.pardir))\n",
      "\n",
      "from datetime import datetime, date, timedelta\n",
      "from io import StringIO\n",
      "\n",
      "import requests\n",
      "from pyquery import PyQuery as pq\n",
      "\n",
      "from lxml import etree\n",
      "\n",
      "import settings"
     ],
     "language": "python",
     "metadata": {},
     "outputs": [],
     "prompt_number": 2
    },
    {
     "cell_type": "markdown",
     "metadata": {},
     "source": [
      "# LD-1 "
     ]
    },
    {
     "cell_type": "code",
     "collapsed": false,
     "input": [
      "html_parser = etree.HTMLParser()\n"
     ],
     "language": "python",
     "metadata": {},
     "outputs": [],
     "prompt_number": 11
    },
    {
     "cell_type": "code",
     "collapsed": false,
     "input": [
      "_filing_detail_url = 'http://soprweb.senate.gov/index.cfm?'"
     ],
     "language": "python",
     "metadata": {},
     "outputs": [],
     "prompt_number": 12
    },
    {
     "cell_type": "code",
     "collapsed": false,
     "input": [
      "_params = {'event': 'getFilingDetails',\n",
      "           'filingID': 'b931620a-16aa-4834-b798-e08b0a3bddf8',\n",
      "           'filingTypeID': 1}\n",
      "\n",
      "resp = requests.get(_filing_detail_url, params=_params)"
     ],
     "language": "python",
     "metadata": {},
     "outputs": [],
     "prompt_number": 13
    },
    {
     "cell_type": "code",
     "collapsed": false,
     "input": [
      "parsed =  etree.parse(StringIO(resp.text), html_parser)"
     ],
     "language": "python",
     "metadata": {},
     "outputs": [],
     "prompt_number": 18
    },
    {
     "cell_type": "code",
     "collapsed": false,
     "input": [
      "#e = \n",
      "e = parsed.xpath('/html/body/table[3]/tbody/tr/'\n",
      "             'td[contains(.,\"Prefix\")]/following-sibling::td[1]/div')[0]\n",
      "print etree.tostring(e)"
     ],
     "language": "python",
     "metadata": {},
     "outputs": [
      {
       "output_type": "stream",
       "stream": "stdout",
       "text": [
        "<div style=\"border-bottom:solid 1px\">&#160;Mr.</div>\n",
        "\n"
       ]
      }
     ],
     "prompt_number": 28
    },
    {
     "cell_type": "code",
     "collapsed": false,
     "input": [
      "_params = {'event': 'getFilingDetails',\n",
      "           'filingID': 'b4c3bd67-7c7c-45e6-8b6c-5fd6b55eec3f',\n",
      "           'filingTypeID': 1}\n",
      "\n",
      "resp = requests.get(_filing_detail_url, params=_params)"
     ],
     "language": "python",
     "metadata": {},
     "outputs": [],
     "prompt_number": 214
    },
    {
     "cell_type": "code",
     "collapsed": false,
     "input": [
      "parsed =  etree.parse(StringIO(resp.text), html_parser)\n",
      "parsed.xpath('/html/body/table[position() > 2 and position() < 10]/tbody/tr/*')"
     ],
     "language": "python",
     "metadata": {},
     "outputs": [
      {
       "metadata": {},
       "output_type": "pyout",
       "prompt_number": 216,
       "text": [
        "[<Element td at 0x7fd28f2bb830>,\n",
        " <Element td at 0x7fd28f2bbb00>,\n",
        " <Element td at 0x7fd28f2bba70>,\n",
        " <Element td at 0x7fd28f2bbab8>,\n",
        " <Element td at 0x7fd28f2bb950>,\n",
        " <Element td at 0x7fd28f22b5a8>,\n",
        " <Element td at 0x7fd28d8fb290>,\n",
        " <Element td at 0x7fd28d8fb320>,\n",
        " <Element td at 0x7fd28d8fb1b8>,\n",
        " <Element td at 0x7fd28d8fb170>,\n",
        " <Element td at 0x7fd28d8fbf80>,\n",
        " <Element td at 0x7fd28d8fb2d8>,\n",
        " <Element td at 0x7fd28d8a2050>,\n",
        " <Element td at 0x7fd28d8a20e0>,\n",
        " <Element td at 0x7fd28d8a21b8>,\n",
        " <Element td at 0x7fd28d8a2248>,\n",
        " <Element td at 0x7fd28d8a2290>,\n",
        " <Element td at 0x7fd28d8a2320>,\n",
        " <Element td at 0x7fd28d8a23b0>,\n",
        " <Element td at 0x7fd28d8a23f8>,\n",
        " <Element td at 0x7fd28d8a2488>,\n",
        " <Element td at 0x7fd28d8a24d0>,\n",
        " <Element td at 0x7fd28d8a2518>,\n",
        " <Element td at 0x7fd28d8a2560>,\n",
        " <Element td at 0x7fd28d8a25a8>,\n",
        " <Element td at 0x7fd28d8a25f0>,\n",
        " <Element td at 0x7fd28d8a2638>,\n",
        " <Element td at 0x7fd28d8a26c8>,\n",
        " <Element td at 0x7fd28d8a2710>,\n",
        " <Element td at 0x7fd28d8a2758>,\n",
        " <Element td at 0x7fd28d8a27a0>,\n",
        " <Element td at 0x7fd28d8a27e8>,\n",
        " <Element td at 0x7fd28d8a2830>,\n",
        " <Element td at 0x7fd28d8a2878>,\n",
        " <Element td at 0x7fd28d8a28c0>]"
       ]
      }
     ],
     "prompt_number": 216
    },
    {
     "cell_type": "code",
     "collapsed": false,
     "input": [
      "parsed.xpath('/html/body/table[8]/tbody/tr/td[4]/div/text()')"
     ],
     "language": "python",
     "metadata": {},
     "outputs": [
      {
       "metadata": {},
       "output_type": "pyout",
       "prompt_number": 217,
       "text": [
        "[u'\\xa02024146169']"
       ]
      }
     ],
     "prompt_number": 217
    },
    {
     "cell_type": "code",
     "collapsed": false,
     "input": [
      "s = parsed.xpath('/html/body/table[8]/tbody/tr/td[4]/div/text()')[0]\n",
      "s.replace(u'\\xa0',u'')"
     ],
     "language": "python",
     "metadata": {},
     "outputs": [
      {
       "metadata": {},
       "output_type": "pyout",
       "prompt_number": 218,
       "text": [
        "u'2024146169'"
       ]
      }
     ],
     "prompt_number": 218
    },
    {
     "cell_type": "code",
     "collapsed": false,
     "input": [
      "parsed.xpath('/html/body/table[16]/tbody/tr[position() > 3]')"
     ],
     "language": "python",
     "metadata": {},
     "outputs": [
      {
       "metadata": {},
       "output_type": "pyout",
       "prompt_number": 219,
       "text": [
        "[]"
       ]
      }
     ],
     "prompt_number": 219
    },
    {
     "cell_type": "markdown",
     "metadata": {},
     "source": [
      "## multiple lobbyists"
     ]
    },
    {
     "cell_type": "code",
     "collapsed": false,
     "input": [
      "_params = {'event': 'getFilingDetails',\n",
      "           'filingID': 'C3A7E902-87A2-49FB-8D27-1D031F48DC12',\n",
      "           'filingTypeID': 1}\n",
      "\n",
      "resp = requests.get(_filing_detail_url, params=_params)\n",
      "multiple_lobbyists =  etree.parse(StringIO(resp.text), html_parser)"
     ],
     "language": "python",
     "metadata": {},
     "outputs": [],
     "prompt_number": 220
    },
    {
     "cell_type": "code",
     "collapsed": false,
     "input": [
      "lobb_rows = multiple_lobbyists.xpath('/html/body/table[12]/tbody/tr[position() > 2]')"
     ],
     "language": "python",
     "metadata": {},
     "outputs": [],
     "prompt_number": 221
    },
    {
     "cell_type": "code",
     "collapsed": false,
     "input": [
      "lobb_row = lobb_rows[0]\n",
      "etree.tostring(lobb_row)"
     ],
     "language": "python",
     "metadata": {},
     "outputs": [
      {
       "metadata": {},
       "output_type": "pyout",
       "prompt_number": 222,
       "text": [
        "'<tr>\\n<td style=\"border-bottom:2px solid\">&#160;R.L. (Les)</td><td style=\"border-bottom:2px solid\">&#160;Brownlee</td><td style=\"border-bottom:2px solid;border-right:2px solid\">&#160;</td><td style=\"border-bottom:2px solid\">&#160;Acting Secretary/Under Secretary of the Army;</td>\\n</tr>\\n'"
       ]
      }
     ],
     "prompt_number": 222
    },
    {
     "cell_type": "code",
     "collapsed": false,
     "input": [
      "lobb_row.xpath('td[1]')"
     ],
     "language": "python",
     "metadata": {},
     "outputs": [
      {
       "metadata": {},
       "output_type": "pyout",
       "prompt_number": 223,
       "text": [
        "[<Element td at 0x7fd29c0fde18>]"
       ]
      }
     ],
     "prompt_number": 223
    },
    {
     "cell_type": "markdown",
     "metadata": {},
     "source": [
      "## multiple lobbying issues"
     ]
    },
    {
     "cell_type": "code",
     "collapsed": false,
     "input": [
      "_params = {'event': 'getFilingDetails',\n",
      "           'filingID': '3A144627-84A0-4190-81A8-B40718EA37EC',\n",
      "           'filingTypeID': 1}\n",
      "\n",
      "resp = requests.get(_filing_detail_url, params=_params)\n",
      "multiple_issues =  etree.parse(StringIO(resp.text), html_parser)"
     ],
     "language": "python",
     "metadata": {},
     "outputs": [],
     "prompt_number": 224
    },
    {
     "cell_type": "code",
     "collapsed": false,
     "input": [
      "multiple_issues.xpath('/html/body/table[13]/tbody/tr/td/div')"
     ],
     "language": "python",
     "metadata": {},
     "outputs": [
      {
       "metadata": {},
       "output_type": "pyout",
       "prompt_number": 225,
       "text": [
        "[<Element div at 0x7fd28d8a2e18>,\n",
        " <Element div at 0x7fd28d8a2fc8>,\n",
        " <Element div at 0x7fd28d8a2f38>,\n",
        " <Element div at 0x7fd28d8a2c68>,\n",
        " <Element div at 0x7fd28d8a2a28>,\n",
        " <Element div at 0x7fd28d8a2950>,\n",
        " <Element div at 0x7fd28d8a2908>,\n",
        " <Element div at 0x7fd28d8a2f80>,\n",
        " <Element div at 0x7fd29c0fdd88>,\n",
        " <Element div at 0x7fd28d9eb4d0>,\n",
        " <Element div at 0x7fd28d9eb440>,\n",
        " <Element div at 0x7fd28d9eb488>,\n",
        " <Element div at 0x7fd28d9eb518>,\n",
        " <Element div at 0x7fd28d9eb320>,\n",
        " <Element div at 0x7fd28d9eb560>,\n",
        " <Element div at 0x7fd28d9eb5a8>,\n",
        " <Element div at 0x7fd28d9eb5f0>,\n",
        " <Element div at 0x7fd28d9eb638>,\n",
        " <Element div at 0x7fd28d9eb680>,\n",
        " <Element div at 0x7fd28d9eb6c8>,\n",
        " <Element div at 0x7fd28d9eb710>,\n",
        " <Element div at 0x7fd28d9eb758>,\n",
        " <Element div at 0x7fd28d9eb7a0>,\n",
        " <Element div at 0x7fd28d9eb7e8>,\n",
        " <Element div at 0x7fd28d9eb830>,\n",
        " <Element div at 0x7fd28d9eb878>,\n",
        " <Element div at 0x7fd28d9eb8c0>]"
       ]
      }
     ],
     "prompt_number": 225
    },
    {
     "cell_type": "code",
     "collapsed": false,
     "input": [
      "multiple_issues.xpath('/html/body/table[13]/tbody/tr/td/div/text()')"
     ],
     "language": "python",
     "metadata": {},
     "outputs": [
      {
       "metadata": {},
       "output_type": "pyout",
       "prompt_number": 226,
       "text": [
        "[u'\\xa0HOM',\n",
        " u'\\xa0AVI',\n",
        " u'\\xa0BUD',\n",
        " u'\\xa0DEF',\n",
        " u'\\xa0ECN',\n",
        " u'\\xa0FOR',\n",
        " u'\\xa0GOV',\n",
        " u'\\xa0LBR',\n",
        " u'\\xa0LAW',\n",
        " u'\\xa0TOU',\n",
        " u'\\xa0TRA',\n",
        " u'\\xa0',\n",
        " u'\\xa0',\n",
        " u'\\xa0',\n",
        " u'\\xa0',\n",
        " u'\\xa0',\n",
        " u'\\xa0',\n",
        " u'\\xa0',\n",
        " u'\\xa0',\n",
        " u'\\xa0',\n",
        " u'\\xa0',\n",
        " u'\\xa0',\n",
        " u'\\xa0',\n",
        " u'\\xa0',\n",
        " u'\\xa0',\n",
        " u'\\xa0',\n",
        " u'\\xa0']"
       ]
      }
     ],
     "prompt_number": 226
    },
    {
     "cell_type": "markdown",
     "metadata": {},
     "source": [
      "## multiple affiliated orgs"
     ]
    },
    {
     "cell_type": "code",
     "collapsed": false,
     "input": [
      "_params = {'event': 'getFilingDetails',\n",
      "           'filingID': 'C3A7E902-87A2-49FB-8D27-1D031F48DC12',\n",
      "           'filingTypeID': 1}\n",
      "\n",
      "resp = requests.get(_filing_detail_url, params=_params)\n",
      "multiple_aff_orgs =  etree.parse(StringIO(resp.text), html_parser)"
     ],
     "language": "python",
     "metadata": {},
     "outputs": [],
     "prompt_number": 229
    },
    {
     "cell_type": "code",
     "collapsed": false,
     "input": [
      "multiple_aff_orgs.xpath('/html/body/table[16]/tbody/tr[position() > 3]')"
     ],
     "language": "python",
     "metadata": {},
     "outputs": [
      {
       "metadata": {},
       "output_type": "pyout",
       "prompt_number": 230,
       "text": [
        "[<Element tr at 0x7fd28d9eb248>,\n",
        " <Element tr at 0x7fd28d9eb200>,\n",
        " <Element tr at 0x7fd28d9eb2d8>,\n",
        " <Element tr at 0x7fd28d9eb290>,\n",
        " <Element tr at 0x7fd28d9eb3f8>,\n",
        " <Element tr at 0x7fd28d9eb368>]"
       ]
      }
     ],
     "prompt_number": 230
    },
    {
     "cell_type": "code",
     "collapsed": false,
     "input": [
      "def _zip_odd_even(arr):\n",
      "    return [(arr[i].xpath('td/div/text()'), arr[i+1].xpath('td[position() > 1]/table/tbody/tr/td/div/text()')) for i in xrange(0,len(arr),2) ]\n",
      "\n",
      "_zip_odd_even(multiple_aff_orgs.xpath('/html/body/table[16]/tbody/tr[position() > 3]'))"
     ],
     "language": "python",
     "metadata": {},
     "outputs": [
      {
       "metadata": {},
       "output_type": "pyout",
       "prompt_number": 231,
       "text": [
        "[([u'\\xa0AT&T Services Inc.', u'\\xa01133 21st Street NW, #900'],\n",
        "  [u'\\xa0Washington',\n",
        "   u'\\xa0DC',\n",
        "   u'\\xa020036',\n",
        "   u'\\xa0USA',\n",
        "   u'\\xa0TX',\n",
        "   u'\\xa0USA']),\n",
        " ([u'\\xa0T-Mobile US, Inc.', u'\\xa0601 Pennsylvania Avenue, NW #800 North'],\n",
        "  [u'\\xa0Washington',\n",
        "   u'\\xa0DC',\n",
        "   u'\\xa020004',\n",
        "   u'\\xa0USA',\n",
        "   u'\\xa0WA',\n",
        "   u'\\xa0USA']),\n",
        " ([u'\\xa0Verizon Communications Inc.', u'\\xa01300 I Street, NW'],\n",
        "  [u'\\xa0Washington',\n",
        "   u'\\xa0DC',\n",
        "   u'\\xa020005',\n",
        "   u'\\xa0USA',\n",
        "   u'\\xa0NY',\n",
        "   u'\\xa0USA'])]"
       ]
      }
     ],
     "prompt_number": 231
    },
    {
     "cell_type": "code",
     "collapsed": false,
     "input": [
      "row_eg = multiple_aff_orgs.xpath('/html/body/table[16]/tbody/tr[position() > 3]')[0]"
     ],
     "language": "python",
     "metadata": {},
     "outputs": [],
     "prompt_number": 232
    },
    {
     "cell_type": "code",
     "collapsed": false,
     "input": [
      "row_eg.xpath('.//td/div/text()')"
     ],
     "language": "python",
     "metadata": {},
     "outputs": [
      {
       "metadata": {},
       "output_type": "pyout",
       "prompt_number": 233,
       "text": [
        "[u'\\xa0AT&T Services Inc.', u'\\xa01133 21st Street NW, #900', u'\\xa0Dallas']"
       ]
      }
     ],
     "prompt_number": 233
    },
    {
     "cell_type": "code",
     "collapsed": false,
     "input": [
      "for r in multiple_aff_orgs.xpath('/html/body/table[16]/tbody/tr[position() > 3]'):\n",
      "    for d in r.xpath('td[3]/table/tbody/tr/td[4]/div/text()'):\n",
      "        print d\n",
      "    print '='*20"
     ],
     "language": "python",
     "metadata": {},
     "outputs": [
      {
       "output_type": "stream",
       "stream": "stdout",
       "text": [
        "====================\n",
        "\u00a0USA\n",
        "====================\n",
        "====================\n",
        "\u00a0USA\n",
        "====================\n",
        "====================\n",
        "\u00a0USA\n",
        "====================\n"
       ]
      }
     ],
     "prompt_number": 234
    },
    {
     "cell_type": "markdown",
     "metadata": {},
     "source": [
      "## Multiple foreign entities"
     ]
    },
    {
     "cell_type": "code",
     "collapsed": false,
     "input": [
      "_params = {'event': 'getFilingDetails',\n",
      "           'filingID': '3A144627-84A0-4190-81A8-B40718EA37EC',\n",
      "           'filingTypeID': 1}\n",
      "\n",
      "resp = requests.get(_filing_detail_url, params=_params)\n",
      "multiple_foreign =  etree.parse(StringIO(resp.text), html_parser)"
     ],
     "language": "python",
     "metadata": {},
     "outputs": [],
     "prompt_number": 235
    },
    {
     "cell_type": "code",
     "collapsed": false,
     "input": [
      "for r in multiple_foreign.xpath('/html/body/table[19]/tbody/tr'):\n",
      "    for d in r.xpath('td[5]/div/text()'):\n",
      "        print d\n",
      "    print '='*20"
     ],
     "language": "python",
     "metadata": {},
     "outputs": [
      {
       "output_type": "stream",
       "stream": "stdout",
       "text": [
        "====================\n",
        "\u00a0100\n",
        "====================\n",
        "====================\n",
        "\u00a00\n",
        "====================\n",
        "====================\n",
        "\u00a00\n",
        "====================\n"
       ]
      }
     ],
     "prompt_number": 236
    },
    {
     "cell_type": "markdown",
     "metadata": {},
     "source": [
      "## Checkbox"
     ]
    },
    {
     "cell_type": "code",
     "collapsed": false,
     "input": [
      "e = parsed.xpath('/html/body/div[1]/input[2]')[0]"
     ],
     "language": "python",
     "metadata": {},
     "outputs": [],
     "prompt_number": 237
    },
    {
     "cell_type": "code",
     "collapsed": false,
     "input": [
      "e.attrib.has_key('checked')"
     ],
     "language": "python",
     "metadata": {},
     "outputs": [
      {
       "metadata": {},
       "output_type": "pyout",
       "prompt_number": 238,
       "text": [
        "True"
       ]
      }
     ],
     "prompt_number": 238
    },
    {
     "cell_type": "markdown",
     "metadata": {},
     "source": [
      "## parse date"
     ]
    },
    {
     "cell_type": "code",
     "collapsed": false,
     "input": [
      "s = parsed.xpath('/html/body/table[2]/tbody/tr[1]/td[3]/div/text()')[0]\n",
      "s"
     ],
     "language": "python",
     "metadata": {},
     "outputs": [
      {
       "metadata": {},
       "output_type": "pyout",
       "prompt_number": 239,
       "text": [
        "'5/28/2013'"
       ]
      }
     ],
     "prompt_number": 239
    },
    {
     "cell_type": "code",
     "collapsed": false,
     "input": [
      "datetime.strptime(s, '%m/%d/%Y')"
     ],
     "language": "python",
     "metadata": {},
     "outputs": [
      {
       "metadata": {},
       "output_type": "pyout",
       "prompt_number": 240,
       "text": [
        "datetime.datetime(2013, 5, 28, 0, 0)"
       ]
      }
     ],
     "prompt_number": 240
    },
    {
     "cell_type": "code",
     "collapsed": false,
     "input": [
      "filter(lambda x: x % 2, [1,2,3,4,5])"
     ],
     "language": "python",
     "metadata": {},
     "outputs": [
      {
       "metadata": {},
       "output_type": "pyout",
       "prompt_number": 241,
       "text": [
        "[1, 3, 5]"
       ]
      }
     ],
     "prompt_number": 241
    },
    {
     "cell_type": "code",
     "collapsed": false,
     "input": [
      "os.path.basename('/home/blannon/1223_watzman_20131101.csv')"
     ],
     "language": "python",
     "metadata": {},
     "outputs": [
      {
       "metadata": {},
       "output_type": "pyout",
       "prompt_number": 242,
       "text": [
        "'1223_watzman_20131101.csv'"
       ]
      }
     ],
     "prompt_number": 242
    },
    {
     "cell_type": "code",
     "collapsed": false,
     "input": [
      "os.extsep"
     ],
     "language": "python",
     "metadata": {},
     "outputs": [
      {
       "metadata": {},
       "output_type": "pyout",
       "prompt_number": 243,
       "text": [
        "'.'"
       ]
      }
     ],
     "prompt_number": 243
    },
    {
     "cell_type": "code",
     "collapsed": false,
     "input": [
      "u = 'http://soprweb.senate.gov/index.cfm?event=getFilingDetails&filingTypeID=57&filingID=33eb46ef-55a7-4233-8685-f7427c057f41'\n"
     ],
     "language": "python",
     "metadata": {},
     "outputs": [],
     "prompt_number": 244
    },
    {
     "cell_type": "code",
     "collapsed": false,
     "input": [
      "urlparse.parse_qsl(urlparse.urlparse(u).query)"
     ],
     "language": "python",
     "metadata": {},
     "outputs": [
      {
       "metadata": {},
       "output_type": "pyout",
       "prompt_number": 245,
       "text": [
        "[('event', 'getFilingDetails'),\n",
        " ('filingTypeID', '57'),\n",
        " ('filingID', '33eb46ef-55a7-4233-8685-f7427c057f41')]"
       ]
      }
     ],
     "prompt_number": 245
    },
    {
     "cell_type": "code",
     "collapsed": false,
     "input": [
      "thing = etree.parse(open('../data/cache/sopr_html/2014/REG/a25b34ae-5ccb-409f-848d-f4fa008a06b4.html'), html_parser)"
     ],
     "language": "python",
     "metadata": {},
     "outputs": [],
     "prompt_number": 246
    },
    {
     "cell_type": "code",
     "collapsed": false,
     "input": [
      "print etree.tostring(thing)"
     ],
     "language": "python",
     "metadata": {},
     "outputs": [
      {
       "output_type": "stream",
       "stream": "stdout",
       "text": [
        "<!DOCTYPE html PUBLIC \"-//W3C//DTD HTML 4.0 Transitional//EN\" \"http://www.w3.org/TR/REC-html40/loose.dtd\">\n",
        "<html>\n",
        "<head>\n",
        "<meta http-equiv=\"Content-Type\" content=\"text/html; charset=UTF-8\"/>\n",
        "<title>LD-1 Disclosure Form</title>\n",
        "<style type=\"text/css\">\n",
        "                    * {font-size:9pt}\n",
        "                    hr {height:3px;background:black}\n",
        "                    table {border-color:black;table-layout:fixed}\n",
        "                </style>\n",
        "</head>\n",
        "<body>\n",
        "<table style=\"border-style:double;border-width:3px\" width=\"60%\">\n",
        "<col width=\"60%\"/>\n",
        "<col width=\"40%\"/>\n",
        "<tbody>\n",
        "<tr>\n",
        "<td>Clerk of the House of Representatives<br/>\n",
        "                                Legislative Resource Center<br/>\n",
        "                                B-106 Cannon Building<br/>\n",
        "                                Washington, DC 20515<br/>\n",
        "<a style=\"text-decoration:underline\" href=\"http://lobbyingdisclosure.house.gov\">http://lobbyingdisclosure.house.gov</a></td><td>Secretary of the Senate<br/>\n",
        "                                Office of Public Records<br/>\n",
        "                                232 Hart Building<br/>\n",
        "                                Washington, DC 20510<br/>\n",
        "<a style=\"text-decoration:underline\" href=\"http://www.senate.gov/lobby\">http://www.senate.gov/lobby</a></td>\n",
        "</tr>\n",
        "</tbody>\n",
        "</table>\n",
        "<p style=\"font-size:24pt;font-weight:bold\">LOBBYING REGISTRATION</p>\n",
        "<p style=\"font-size:12pt\">Lobbying Disclosure Act of 1995 (Section 4)</p>\n",
        "<div>\n",
        "<span style=\"font-style:italic;text-decoration:underline;font-size:8pt\">Check One:</span><input disabled=\"disabled\" type=\"checkbox\"/> New Registrant <input disabled=\"disabled\" type=\"checkbox\" checked=\"checked\"/> New Client for Existing Registrant<input disabled=\"disabled\" type=\"checkbox\"/> Amendment</div>\n",
        "<br/>\n",
        "<table width=\"100%\">\n",
        "<col span=\"2\" width=\"20%\"/>\n",
        "<col span=\"2\" width=\"10%\"/>\n",
        "<col span=\"2\" width=\"20%\"/>\n",
        "<tbody>\n",
        "<tr valign=\"baseline\" style=\"font-size:10pt\">\n",
        "<td colspan=\"3\"/><td style=\"text-align:center\" colspan=\"2\">1. Effective Date of Registration</td><td>\n",
        "<div style=\"border-bottom:solid 1px\">05/01/2014</div>\n",
        "</td>\n",
        "</tr>\n",
        "<tr valign=\"baseline\" style=\"font-size:10pt\">\n",
        "<td style=\"font-weight:bold\">2. House Identification</td><td>\n",
        "<div style=\"border-bottom:solid 1px\">&#160;42262</div>\n",
        "</td><td colspan=\"2\"/><td style=\"font-weight:bold\">Senate Identification</td><td>\n",
        "<div style=\"border-bottom:solid 1px\">&#160;401047945</div>\n",
        "</td>\n",
        "</tr>\n",
        "</tbody>\n",
        "</table>\n",
        "<hr/>\n",
        "<p>\n",
        "<span style=\"font-weight:bold;font-size:14pt\">REGISTRANT </span><input disabled=\"disabled\" type=\"checkbox\"/> Organization/Lobbying Firm <input disabled=\"disabled\" type=\"checkbox\" checked=\"checked\"/> Self Employed Individual</p>\n",
        "<table width=\"100%\">\n",
        "<col width=\"11%\"/>\n",
        "<col width=\"9%\"/>\n",
        "<col width=\"5%\"/>\n",
        "<col width=\"10%\"/>\n",
        "<col width=\"20%\"/>\n",
        "<col width=\"10%\"/>\n",
        "<col width=\"35%\"/>\n",
        "<tbody>\n",
        "<tr>\n",
        "<td>3. Registrant</td><td>Prefix</td><td>\n",
        "<div style=\"border-bottom:solid 1px\">&#160;Mr.</div>\n",
        "</td><td>First</td><td>\n",
        "<div style=\"border-bottom:solid 1px\">&#160;Andrew</div>\n",
        "</td><td>Last</td><td>\n",
        "<div style=\"border-bottom:solid 1px\">&#160;Wahlquist</div>\n",
        "</td>\n",
        "</tr>\n",
        "</tbody>\n",
        "</table>\n",
        "<table width=\"100%\">\n",
        "<col width=\"8%\"/>\n",
        "<col width=\"42%\"/>\n",
        "<col width=\"8%\"/>\n",
        "<col width=\"42%\"/>\n",
        "<tbody>\n",
        "<tr>\n",
        "<td>Address</td><td style=\"padding-right:.5em\">\n",
        "<div style=\"border-bottom:solid 1px\">6622 Madison McLean Drive</div>\n",
        "</td><td>Address2</td><td>\n",
        "<div style=\"border-bottom:solid 1px\">&#160;</div>\n",
        "</td>\n",
        "</tr>\n",
        "</tbody>\n",
        "</table>\n",
        "<table width=\"100%\">\n",
        "<col width=\"5%\"/>\n",
        "<col width=\"40%\"/>\n",
        "<col width=\"5%\"/>\n",
        "<col width=\"5%\"/>\n",
        "<col width=\"5%\"/>\n",
        "<col width=\"20%\"/>\n",
        "<col width=\"6%\"/>\n",
        "<col width=\"14%\"/>\n",
        "<tbody>\n",
        "<tr>\n",
        "<td>City</td><td style=\"padding-right:.5em\">\n",
        "<div style=\"border-bottom:1px solid\">McLean</div>\n",
        "</td><td>State</td><td style=\"padding-right:.5em\">\n",
        "<div style=\"border-bottom:1px solid\">VA</div>\n",
        "</td><td>Zip</td><td style=\"padding-right:.5em\">\n",
        "<div style=\"border-bottom:1px solid\">22101</div>\n",
        "</td><td>Country</td><td style=\"padding-left:1em\">\n",
        "<div style=\"border-bottom:solid 1px\">USA</div>\n",
        "</td>\n",
        "</tr>\n",
        "</tbody>\n",
        "</table>4. Principal place of business (if different than line 3)<br/>\n",
        "<table width=\"100%\">\n",
        "<col width=\"5%\"/>\n",
        "<col width=\"40%\"/>\n",
        "<col width=\"5%\"/>\n",
        "<col width=\"5%\"/>\n",
        "<col width=\"5%\"/>\n",
        "<col width=\"20%\"/>\n",
        "<col width=\"6%\"/>\n",
        "<col width=\"14%\"/>\n",
        "<tbody>\n",
        "<tr>\n",
        "<td>City</td><td style=\"padding-right:.5em\">\n",
        "<div style=\"border-bottom:1px solid\">&#160;</div>\n",
        "</td><td>State</td><td style=\"padding-right:.5em\">\n",
        "<div style=\"border-bottom:1px solid\">&#160;</div>\n",
        "</td><td>Zip</td><td style=\"padding-right:.5em\">\n",
        "<div style=\"border-bottom:1px solid\">&#160;</div>\n",
        "</td><td>Country</td><td style=\"padding-left:1em\">\n",
        "<div style=\"border-bottom:solid 1px\">&#160;</div>\n",
        "</td>\n",
        "</tr>\n",
        "</tbody>\n",
        "</table>\n",
        "<table width=\"100%\">\n",
        "<col span=\"2\" width=\"50%\"/>\n",
        "<tbody>\n",
        "<tr>\n",
        "<td>5. Contact name and telephone number</td><td><input disabled=\"disabled\" type=\"checkbox\"/><span style=\"font-weight:bold;font-size:75%\"> International Number</span></td>\n",
        "</tr>\n",
        "</tbody>\n",
        "</table>\n",
        "<table width=\"100%\">\n",
        "<col width=\"7%\"/>\n",
        "<col width=\"34%\"/>\n",
        "<col width=\"7%\"/>\n",
        "<col width=\"20%\"/>\n",
        "<col width=\"7%\"/>\n",
        "<col width=\"25%\"/>\n",
        "<tbody>\n",
        "<tr>\n",
        "<td>Contact</td><td style=\"padding-right:.5em;padding-left:.5em\">\n",
        "<div style=\"border-bottom:solid 1px\">&#160;Mr. Andrew Wahlquist</div>\n",
        "</td><td>Telephone</td><td style=\"padding-right:.5em;padding-left:2em\">\n",
        "<div style=\"border-bottom:solid 1px\">&#160;2025778848</div>\n",
        "</td><td>E-mail</td><td>\n",
        "<div style=\"border-bottom:solid 1px\">&#160;awahlquist@cox.net</div>\n",
        "</td>\n",
        "</tr>\n",
        "</tbody>\n",
        "</table>6. General description of registrant&#8217;s business or activities<div style=\"border-bottom:solid 1px\">&#160;Government relations and business development</div>\n",
        "<hr/>\n",
        "<p style=\"margin-bottom:-.25em;margin-top:-.5em;font-size:14pt;font-weight:bold\">CLIENT\n",
        "                    <span style=\"font-weight:normal;font-style:italic;font-size:8pt\">A Lobbying Firm is required to file a separate\n",
        "                        registration for each client. Organizations employing in-house lobbyists should\n",
        "                        check the box labeled &#8220;Self&#8221; and proceed to line 10.</span> <input disabled=\"disabled\" type=\"checkbox\"/><span style=\"font-style:italic;font-weight:bold;font-size:8pt\">Self</span>\n",
        "</p>\n",
        "<table width=\"100%\">\n",
        "<col width=\"12%\"/>\n",
        "<col width=\"88%\"/>\n",
        "<tbody>\n",
        "<tr>\n",
        "<td>7. Client name</td><td>\n",
        "<div style=\"border-bottom:solid 1px\">&#160;Technology and Suipply Management, LLC</div>\n",
        "</td>\n",
        "</tr>\n",
        "<tr>\n",
        "<td>Address</td><td>\n",
        "<div style=\"border-bottom:solid 1px\">&#160;3877 Fairfax Ridge Road - Suite 110N</div>\n",
        "</td>\n",
        "</tr>\n",
        "</tbody>\n",
        "</table>\n",
        "<table width=\"100%\">\n",
        "<col width=\"7%\"/>\n",
        "<col width=\"55%\"/>\n",
        "<col width=\"5%\"/>\n",
        "<col width=\"5%\"/>\n",
        "<col width=\"5%\"/>\n",
        "<col width=\"10%\"/>\n",
        "<col width=\"6%\"/>\n",
        "<col width=\"7%\"/>\n",
        "<tbody>\n",
        "<tr>\n",
        "<td>City</td><td style=\"padding-right:.5em\">\n",
        "<div style=\"border-bottom:1px solid\">&#160;Fairfax</div>\n",
        "</td><td>State</td><td style=\"padding-right:.5em\">\n",
        "<div style=\"border-bottom:1px solid\">&#160;VA</div>\n",
        "</td><td>Zip</td><td style=\"padding-right:.5em\">\n",
        "<div style=\"border-bottom:1px solid\">&#160;22030</div>\n",
        "</td><td>Country</td><td>\n",
        "<div style=\"border-bottom:solid 1px\">&#160;USA</div>\n",
        "</td>\n",
        "</tr>\n",
        "</tbody>\n",
        "</table>8. Principal place of business (if different than line 7)<table width=\"100%\">\n",
        "<col width=\"7%\"/>\n",
        "<col width=\"55%\"/>\n",
        "<col width=\"5%\"/>\n",
        "<col width=\"5%\"/>\n",
        "<col width=\"5%\"/>\n",
        "<col width=\"10%\"/>\n",
        "<col width=\"6%\"/>\n",
        "<col width=\"7%\"/>\n",
        "<tbody>\n",
        "<tr>\n",
        "<td>City</td><td style=\"padding-right:.5em\">\n",
        "<div style=\"border-bottom:1px solid\">&#160;</div>\n",
        "</td><td>State</td><td style=\"padding-right:.5em\">\n",
        "<div style=\"border-bottom:1px solid\">&#160;</div>\n",
        "</td><td>Zip</td><td style=\"padding-right:.5em\">\n",
        "<div style=\"border-bottom:1px solid\">&#160;</div>\n",
        "</td><td>Country</td><td>\n",
        "<div style=\"border-bottom:solid 1px\">&#160;</div>\n",
        "</td>\n",
        "</tr>\n",
        "</tbody>\n",
        "</table>9. General description of client&#8217;s business or activities<div style=\"border-bottom:solid 1px\">&#160;Government contracting and commercial logistics</div>\n",
        "<hr/>\n",
        "<p style=\"margin-bottom:-.5em;margin-top:-.5em;font-size:14pt;font-weight:bold\">LOBBYISTS</p>\n",
        "<p style=\"font-size:10pt\">10. Name of each individual who has acted or is expected to act as a lobbyist\n",
        "                    for the client identified on line 7. If any person listed in this section has\n",
        "                    served as a &#8220;covered executive branch official&#8221; or\n",
        "                    &#8220;covered legislative branch official&#8221; within twenty years\n",
        "                    of first acting as a lobbyist for the client,\n",
        "                    <span style=\"font-style:italic\">state the executive and/or legislative\n",
        "                        position(s) in which the person served.</span>\n",
        "</p>\n",
        "<table style=\"border-collapse:collapse\" width=\"100%\">\n",
        "<col span=\"2\" width=\"22.5%\"/>\n",
        "<col width=\"5%\"/>\n",
        "<col width=\"50%\"/>\n",
        "<tbody>\n",
        "<tr>\n",
        "<td/><td style=\"text-align:center\">Name</td><td style=\"border-right:solid 2px\">&#160;</td><td style=\"text-align:center\">\n",
        "                                Covered Official Position (if applicable)\n",
        "                            </td>\n",
        "</tr>\n",
        "<tr style=\"font-size:8pt\">\n",
        "<td style=\"border-bottom:solid 2px\">\n",
        "<div style=\"border:solid 1px\">First</div>\n",
        "</td><td style=\"border-bottom:solid 2px\">\n",
        "<div style=\"border:solid 1px\">Last</div>\n",
        "</td><td style=\"border-right:2px solid;border-bottom:solid 2px\">\n",
        "<div style=\"border:solid 1px\">Suffix</div>\n",
        "</td><td style=\"border-bottom:solid 2px\"/>\n",
        "</tr>\n",
        "<tr>\n",
        "<td style=\"border-bottom:2px solid\">&#160;Andrew </td><td style=\"border-bottom:2px solid\">&#160;Wahlquist</td><td style=\"border-bottom:2px solid;border-right:2px solid\">&#160;Mr.</td><td style=\"border-bottom:2px solid\">&#160;</td>\n",
        "</tr>\n",
        "</tbody>\n",
        "</table>\n",
        "<hr/>\n",
        "<p style=\"margin-bottom:-.5em;margin-top:-.5em;                                 font-size:14pt;font-weight:bold\">LOBBYING ISSUES</p>\n",
        "<p>11. General lobbying issue areas (Select all applicable codes).</p>\n",
        "<table width=\"90%\">\n",
        "<col span=\"9\" width=\"11.1%\"/>\n",
        "<tbody>\n",
        "<tr>\n",
        "<td style=\"padding-right:.5em\">\n",
        "<div style=\"border-bottom:solid 1px\">&#160;DEF</div>\n",
        "</td><td style=\"padding-right:.5em\">\n",
        "<div style=\"border-bottom:solid 1px\">&#160;HOM</div>\n",
        "</td><td style=\"padding-right:.5em\">\n",
        "<div style=\"border-bottom:solid 1px\">&#160;</div>\n",
        "</td><td style=\"padding-right:.5em\">\n",
        "<div style=\"border-bottom:solid 1px\">&#160;</div>\n",
        "</td><td style=\"padding-right:.5em\">\n",
        "<div style=\"border-bottom:solid 1px\">&#160;</div>\n",
        "</td><td style=\"padding-right:.5em\">\n",
        "<div style=\"border-bottom:solid 1px\">&#160;</div>\n",
        "</td><td style=\"padding-right:.5em\">\n",
        "<div style=\"border-bottom:solid 1px\">&#160;</div>\n",
        "</td><td style=\"padding-right:.5em\">\n",
        "<div style=\"border-bottom:solid 1px\">&#160;</div>\n",
        "</td><td style=\"padding-right:.5em\">\n",
        "<div style=\"border-bottom:solid 1px\">&#160;</div>\n",
        "</td>\n",
        "</tr>\n",
        "</tbody>\n",
        "</table>\n",
        "<hr/>\n",
        "<p>12. Specific lobbying issues (current and anticipated)</p>\n",
        "<p>Promote aerostat technology for border security</p>\n",
        "<hr/>\n",
        "<p style=\"margin-bottom:-.5em;margin-top:-.5em;font-size:14pt;font-weight:bold\">AFFILIATED ORGANIZATIONS</p>\n",
        "<p>13. Is there an entity other than the client that contributes more than\n",
        "                    $5,000 to the lobbying activities of the registrant in a quarterly period\n",
        "                    and either actively participates in and/or in whole or in major part supervises, plans, or\n",
        "                    controls the registrant&#8217;s lobbying activities?</p>\n",
        "<table width=\"100%\">\n",
        "<col width=\"40%\"/>\n",
        "<col width=\"60%\"/>\n",
        "<tbody>\n",
        "<tr>\n",
        "<td><input disabled=\"disabled\" type=\"checkbox\" checked=\"checked\"/>  No --&gt; Go to line 14.</td><td><input disabled=\"disabled\" type=\"checkbox\"/>  \n",
        "                                Yes --&gt; Complete the rest of this section for each entity matching the\n",
        "                                criteria above, then proceed to line 14.\n",
        "                            </td>\n",
        "</tr>\n",
        "</tbody>\n",
        "</table>\n",
        "<hr style=\"height:1px\"/>\n",
        "<table width=\"100%\">\n",
        "<col width=\"10%\"/>\n",
        "<col width=\"90%\"/>\n",
        "<tbody>\n",
        "<td>Internet Address:</td><td>\n",
        "<div style=\"border-bottom:solid 1px\">&#160;</div>\n",
        "</td>\n",
        "</tbody>\n",
        "</table>\n",
        "<table width=\"100%\">\n",
        "<col span=\"3\" width=\"33.3%\"/>\n",
        "<tbody>\n",
        "<tr style=\"text-align:center\">\n",
        "<td>Name</td><td>Address</td><td>Principal Place of Business</td>\n",
        "</tr>\n",
        "<tr>\n",
        "<td/><td>Street</td><td/>\n",
        "</tr>\n",
        "<tr>\n",
        "<td/><td>\n",
        "<table width=\"100%\">\n",
        "<col width=\"25%\"/>\n",
        "<col width=\"40%\"/>\n",
        "<col width=\"15%\"/>\n",
        "<col width=\"20%\"/>\n",
        "<tbody>\n",
        "<tr>\n",
        "<td>City</td><td style=\"text-align:right\">State/Province</td><td>Zip Code</td><td>Country</td>\n",
        "</tr>\n",
        "</tbody>\n",
        "</table>\n",
        "</td><td/>\n",
        "</tr>\n",
        "</tbody>\n",
        "</table>\n",
        "<hr/>\n",
        "<p style=\"margin-bottom:-.5em;margin-top:-.5em;font-size:14pt;font-weight:bold\">FOREIGN ENTITIES</p>\n",
        "<p>14. Is there any foreign entity</p>\n",
        "<p style=\"margin-left:5em\">a) holds at least 20% equitable ownership in the client or\n",
        "                    any organization identified on line 13; or</p>\n",
        "<p style=\"margin-left:5em\">b) directly or indirectly, in whole or in major part, plans,\n",
        "                    supervises, controls, directs, finances or subsidizes activities of the client or\n",
        "                    any organization identified on line 13; or</p>\n",
        "<p style=\"margin-left:5em\">c) is an affiliate of the client or any organization identified\n",
        "                    on line 13 and has a direct interest in the outcome of the lobbying activity?</p>\n",
        "<table width=\"100%\">\n",
        "<col width=\"5%\"/>\n",
        "<col width=\"30%\"/>\n",
        "<col width=\"5%\"/>\n",
        "<col width=\"60%\"/>\n",
        "<tbody>\n",
        "<tr>\n",
        "<td><input disabled=\"disabled\" type=\"checkbox\" checked=\"checked\"/></td><td>No --&gt; Sign and date the registration.</td><td><input disabled=\"disabled\" type=\"checkbox\"/></td><td>Yes --&gt; Complete the rest of this section for each entity matching the\n",
        "                                criteria above, then sign the registration.</td>\n",
        "</tr>\n",
        "</tbody>\n",
        "</table>\n",
        "<hr/>\n",
        "<table width=\"100%\">\n",
        "<col width=\"20%\"/>\n",
        "<col width=\"25%\"/>\n",
        "<col width=\"20%\"/>\n",
        "<col width=\"20%\"/>\n",
        "<col width=\"10%\"/>\n",
        "<col width=\"5%\"/>\n",
        "<tbody>\n",
        "<tr>\n",
        "<td/><td style=\"text-align:center\">Address</td><td/><td/><td style=\"text-align:center\" colspan=\"2\">Ownership</td>\n",
        "</tr>\n",
        "<tr>\n",
        "<td style=\"text-align:center\">Name</td><td>Street</td><td style=\"text-align:center\">Principal place of business</td><td style=\"text-align:center\">Amount of contribution</td>\n",
        "</tr>\n",
        "<tr>\n",
        "<td/><td>\n",
        "<table width=\"100%\">\n",
        "<col width=\"25%\"/>\n",
        "<col width=\"50%\"/>\n",
        "<col width=\"25%\"/>\n",
        "<tbody>\n",
        "<tr>\n",
        "<td>City</td><td style=\"text-align:right\">State/Province</td><td>Country</td>\n",
        "</tr>\n",
        "</tbody>\n",
        "</table>\n",
        "</td><td style=\"text-align:center\">(city and state or country)</td><td style=\"text-align:center\">for lobbying activities</td>\n",
        "</tr>\n",
        "</tbody>\n",
        "</table>\n",
        "<hr style=\"height:1px\"/>\n",
        "<table width=\"100%\">\n",
        "<col width=\"20%\"/>\n",
        "<col width=\"25%\"/>\n",
        "<col width=\"28%\"/>\n",
        "<col width=\"20%\"/>\n",
        "<col width=\"5%\"/>\n",
        "<col width=\"2%\"/>\n",
        "<tbody/>\n",
        "</table>\n",
        "<table width=\"100%\">\n",
        "<col width=\"10%\"/>\n",
        "<col width=\"70%\"/>\n",
        "<col span=\"2\" width=\"10%\"/>\n",
        "<tbody>\n",
        "<tr>\n",
        "<td style=\"font-weight:bold\">Signature</td><td>\n",
        "<div style=\"border:solid 1px\">Digitally Signed By: Andrew Wahlquist - Consultant</div>\n",
        "</td><td style=\"text-align:center;font-weight:bold\">Date</td><td>\n",
        "<div style=\"border-bottom:solid 2px\">06/30/2014</div>\n",
        "</td>\n",
        "</tr>\n",
        "</tbody>\n",
        "</table>\n",
        "</body>\n",
        "</html>\n"
       ]
      }
     ],
     "prompt_number": 247
    },
    {
     "cell_type": "code",
     "collapsed": false,
     "input": [
      "sys.path.append('..')"
     ],
     "language": "python",
     "metadata": {},
     "outputs": [],
     "prompt_number": 248
    },
    {
     "cell_type": "code",
     "collapsed": false,
     "input": [
      "from tasks import extract\n",
      "from tasks.schema import ld1_schema"
     ],
     "language": "python",
     "metadata": {},
     "outputs": [],
     "prompt_number": 249
    },
    {
     "cell_type": "code",
     "collapsed": false,
     "input": [
      "elements = filter(lambda x: 'children' not in x, ld1_schema)\n",
      "containers = filter(lambda x: 'children' in x, ld1_schema)"
     ],
     "language": "python",
     "metadata": {},
     "outputs": [],
     "prompt_number": 250
    },
    {
     "cell_type": "code",
     "collapsed": false,
     "input": [
      "elements"
     ],
     "language": "python",
     "metadata": {},
     "outputs": [
      {
       "metadata": {},
       "output_type": "pyout",
       "prompt_number": 251,
       "text": [
        "[{'field': 'new_registrant',\n",
        "  'lda_question': None,\n",
        "  'parser': <function tasks.schema.checkbox_boolean>,\n",
        "  'path': '/html/body/div[1]/input[1]',\n",
        "  'section': 'registration_type'},\n",
        " {'field': 'new_client_for_existing_registrant',\n",
        "  'lda_question': None,\n",
        "  'parser': <function tasks.schema.checkbox_boolean>,\n",
        "  'path': '/html/body/div[1]/input[2]',\n",
        "  'section': 'registration_type'},\n",
        " {'field': 'amendment',\n",
        "  'lda_question': None,\n",
        "  'parser': <function tasks.schema.checkbox_boolean>,\n",
        "  'path': '/html/body/div[1]/input[3]',\n",
        "  'section': 'registration_type'},\n",
        " {'field': 'effective_date',\n",
        "  'lda_question': '1',\n",
        "  'parser': <function tasks.schema.parse_datetime>,\n",
        "  'path': '/html/body/table[2]/tbody/tr[1]/td[3]/div',\n",
        "  'section': 'datetimes'},\n",
        " {'field': 'registrant_house_id',\n",
        "  'lda_question': '2',\n",
        "  'parser': <function tasks.schema.clean_text>,\n",
        "  'path': '/html/body/table[2]/tbody/tr[2]/td[2]/div',\n",
        "  'section': 'identifiers'},\n",
        " {'field': 'registrant_senate_id',\n",
        "  'lda_question': '2',\n",
        "  'parser': <function tasks.schema.clean_text>,\n",
        "  'path': '/html/body/table[2]/tbody/tr[2]/td[5]/div',\n",
        "  'section': 'identifiers'},\n",
        " {'field': 'organization_or_lobbying_firm',\n",
        "  'lda_question': None,\n",
        "  'parser': <function tasks.schema.checkbox_boolean>,\n",
        "  'path': '/html/body/p[3]/input[1]',\n",
        "  'section': 'registrant'},\n",
        " {'field': 'self_employed_individual',\n",
        "  'lda_question': None,\n",
        "  'parser': <function tasks.schema.checkbox_boolean>,\n",
        "  'path': '/html/body/p[3]/input[2]',\n",
        "  'section': 'registrant'},\n",
        " {'field': 'registrant_name',\n",
        "  'lda_question': '3',\n",
        "  'parser': <function tasks.schema.clean_text>,\n",
        "  'path': '/html/body/table[3]/tbody/tr/td[3]/div',\n",
        "  'section': 'registrant'},\n",
        " {'field': 'registrant_address_one',\n",
        "  'lda_question': '3',\n",
        "  'parser': <function tasks.schema.clean_text>,\n",
        "  'path': '/html/body/table[4]/tbody/tr/td[2]/div',\n",
        "  'section': 'registrant'},\n",
        " {'field': 'registrant_address_two',\n",
        "  'lda_question': '3',\n",
        "  'parser': <function tasks.schema.clean_text>,\n",
        "  'path': '/html/body/table[4]/tbody/tr/td[4]/div',\n",
        "  'section': 'registrant'},\n",
        " {'field': 'registrant_city',\n",
        "  'lda_question': '3',\n",
        "  'parser': <function tasks.schema.clean_text>,\n",
        "  'path': '/html/body/table[5]/tbody/tr/td[2]/div',\n",
        "  'section': 'registrant'},\n",
        " {'field': 'registrant_state',\n",
        "  'lda_question': '3',\n",
        "  'parser': <function tasks.schema.clean_text>,\n",
        "  'path': '/html/body/table[5]/tbody/tr/td[4]/div',\n",
        "  'section': 'registrant'},\n",
        " {'field': 'registrant_zip',\n",
        "  'lda_question': '3',\n",
        "  'parser': <function tasks.schema.clean_text>,\n",
        "  'path': '/html/body/table[5]/tbody/tr/td[6]/div',\n",
        "  'section': 'registrant'},\n",
        " {'field': 'registrant_country',\n",
        "  'lda_question': '3',\n",
        "  'parser': <function tasks.schema.clean_text>,\n",
        "  'path': '/html/body/table[5]/tbody/tr/td[8]/div',\n",
        "  'section': 'registrant'},\n",
        " {'field': 'registrant_ppb_city',\n",
        "  'lda_question': '4',\n",
        "  'parser': <function tasks.schema.clean_text>,\n",
        "  'path': '/html/body/table[6]/tbody/tr/td[2]/div',\n",
        "  'section': 'registrant'},\n",
        " {'field': 'registrant_ppb_state',\n",
        "  'lda_question': '4',\n",
        "  'parser': <function tasks.schema.clean_text>,\n",
        "  'path': '/html/body/table[6]/tbody/tr/td[4]/div',\n",
        "  'section': 'registrant'},\n",
        " {'field': 'registrant_ppb_zip',\n",
        "  'lda_question': '4',\n",
        "  'parser': <function tasks.schema.clean_text>,\n",
        "  'path': '/html/body/table[6]/tbody/tr/td[6]/div',\n",
        "  'section': 'registrant'},\n",
        " {'field': 'registrant_ppb_country',\n",
        "  'lda_question': '4',\n",
        "  'parser': <function tasks.schema.clean_text>,\n",
        "  'path': '/html/body/table[6]/tbody/tr/td[8]/div',\n",
        "  'section': 'registrant'},\n",
        " {'field': 'registrant_international_phone',\n",
        "  'lda_question': '5',\n",
        "  'parser': <function tasks.schema.checkbox_boolean>,\n",
        "  'path': '/html/body/table[7]/tbody/tr/td[2]/input',\n",
        "  'section': 'registrant'},\n",
        " {'field': 'registrant_contact',\n",
        "  'lda_question': '5',\n",
        "  'parser': <function tasks.schema.clean_text>,\n",
        "  'path': '/html/body/table[8]/tbody/tr/td[2]/div',\n",
        "  'section': 'registrant'},\n",
        " {'field': 'registrant_phone',\n",
        "  'lda_question': '5',\n",
        "  'parser': <function tasks.schema.clean_text>,\n",
        "  'path': '/html/body/table[8]/tbody/tr/td[4]/div',\n",
        "  'section': 'registrant'},\n",
        " {'field': 'registrant_email',\n",
        "  'lda_question': '5',\n",
        "  'parser': <function tasks.schema.clean_text>,\n",
        "  'path': '/html/body/table[8]/tbody/tr/td[6]/div',\n",
        "  'section': 'registrant'},\n",
        " {'field': 'registrant_email',\n",
        "  'lda_question': '5',\n",
        "  'parser': <function tasks.schema.clean_text>,\n",
        "  'path': '/html/body/table[8]/tbody/tr/td[6]/div',\n",
        "  'section': 'registrant'},\n",
        " {'field': 'registrant_general_description',\n",
        "  'lda_question': '6',\n",
        "  'parser': <function tasks.schema.clean_text>,\n",
        "  'path': '/html/body/div[2]',\n",
        "  'section': 'registrant'},\n",
        " {'field': 'client_self',\n",
        "  'lda_question': None,\n",
        "  'parser': <function tasks.schema.checkbox_boolean>,\n",
        "  'path': '/html/body/p[4]/input',\n",
        "  'section': 'client'},\n",
        " {'field': 'client_name',\n",
        "  'lda_question': '7',\n",
        "  'parser': <function tasks.schema.clean_text>,\n",
        "  'path': '/html/body/table[9]/tbody/tr[1]/td[2]/div',\n",
        "  'section': 'client'},\n",
        " {'field': 'client_address',\n",
        "  'lda_question': '7',\n",
        "  'parser': <function tasks.schema.clean_text>,\n",
        "  'path': '/html/body/table[9]/tbody/tr[2]/td[2]/div',\n",
        "  'section': 'client'},\n",
        " {'field': 'client_city',\n",
        "  'lda_question': '7',\n",
        "  'parser': <function tasks.schema.clean_text>,\n",
        "  'path': '/html/body/table[10]/tbody/tr/td[2]/div',\n",
        "  'section': 'client'},\n",
        " {'field': 'client_state',\n",
        "  'lda_question': '7',\n",
        "  'parser': <function tasks.schema.clean_text>,\n",
        "  'path': '/html/body/table[10]/tbody/tr/td[4]/div',\n",
        "  'section': 'client'},\n",
        " {'field': 'client_zip',\n",
        "  'lda_question': '7',\n",
        "  'parser': <function tasks.schema.clean_text>,\n",
        "  'path': '/html/body/table[10]/tbody/tr/td[6]/div',\n",
        "  'section': 'client'},\n",
        " {'field': 'client_country',\n",
        "  'lda_question': '7',\n",
        "  'parser': <function tasks.schema.clean_text>,\n",
        "  'path': '/html/body/table[10]/tbody/tr/td[8]/div',\n",
        "  'section': 'client'},\n",
        " {'field': 'client_ppb_city',\n",
        "  'lda_question': '8',\n",
        "  'parser': <function tasks.schema.clean_text>,\n",
        "  'path': '/html/body/table[11]/tbody/tr/td[2]/div',\n",
        "  'section': 'client'},\n",
        " {'field': 'client_ppb_state',\n",
        "  'lda_question': '8',\n",
        "  'parser': <function tasks.schema.clean_text>,\n",
        "  'path': '/html/body/table[11]/tbody/tr/td[4]/div',\n",
        "  'section': 'client'},\n",
        " {'field': 'client_ppb_zip',\n",
        "  'lda_question': '8',\n",
        "  'parser': <function tasks.schema.clean_text>,\n",
        "  'path': '/html/body/table[11]/tbody/tr/td[6]/div',\n",
        "  'section': 'client'},\n",
        " {'field': 'client_ppb_country',\n",
        "  'lda_question': '8',\n",
        "  'parser': <function tasks.schema.clean_text>,\n",
        "  'path': '/html/body/table[11]/tbody/tr/td[8]/div',\n",
        "  'section': 'client'},\n",
        " {'field': 'client_general_description',\n",
        "  'lda_question': '9',\n",
        "  'parser': <function tasks.schema.clean_text>,\n",
        "  'path': '/html/body/div[3]',\n",
        "  'section': 'client'},\n",
        " {'field': 'lobbying_issues_detail',\n",
        "  'lda_question': '12',\n",
        "  'parser': <function tasks.schema.clean_text>,\n",
        "  'path': '/html/body/p[10]',\n",
        "  'section': 'lobbying_issues_detail'},\n",
        " {'field': 'affiliated_organizations_no',\n",
        "  'lda_question': '13',\n",
        "  'parser': <function tasks.schema.checkbox_boolean>,\n",
        "  'path': '/html/body/table[14]/tbody/tr/td[1]/input',\n",
        "  'section': 'affiliated_organizations'},\n",
        " {'field': 'affiliated_organizations_yes',\n",
        "  'lda_question': '13',\n",
        "  'parser': <function tasks.schema.checkbox_boolean>,\n",
        "  'path': '/html/body/table[14]/tbody/tr/td[2]/input',\n",
        "  'section': 'affiliated_organizations'},\n",
        " {'field': 'affiliated_organizations_url',\n",
        "  'lda_question': '13',\n",
        "  'parser': <function tasks.schema.clean_text>,\n",
        "  'path': '/html/body/table[15]/tbody/tr/td[2]/div',\n",
        "  'section': 'affiliated_organizations'},\n",
        " {'field': 'foreign_entities_no',\n",
        "  'lda_question': '14',\n",
        "  'parser': <function tasks.schema.checkbox_boolean>,\n",
        "  'path': '/html/body/table[17]/tbody/tr/td[1]/input',\n",
        "  'section': 'foreign_entities'},\n",
        " {'field': 'foreign_entities_yes',\n",
        "  'lda_question': '14',\n",
        "  'parser': <function tasks.schema.checkbox_boolean>,\n",
        "  'path': '/html/body/table[17]/tbody/tr/td[3]/input',\n",
        "  'section': 'foreign_entities'},\n",
        " {'field': 'signature',\n",
        "  'lda_question': None,\n",
        "  'parser': <function tasks.schema.clean_text>,\n",
        "  'path': '/html/body/table[20]/tbody/tr/td[2]/div',\n",
        "  'section': 'signature'},\n",
        " {'field': 'signature_date',\n",
        "  'lda_question': None,\n",
        "  'parser': <function tasks.schema.parse_datetime>,\n",
        "  'path': '/html/body/table[20]/tbody/tr/td[4]/div',\n",
        "  'section': 'datetimes'}]"
       ]
      }
     ],
     "prompt_number": 251
    },
    {
     "cell_type": "code",
     "collapsed": false,
     "input": [
      "reload(extract)\n",
      "extract.extract_html('../data/cache/sopr_html/2014/REG/a25b34ae-5ccb-409f-848d-f4fa008a06b4.html',\n",
      "                     elements,\n",
      "                     containers)"
     ],
     "language": "python",
     "metadata": {},
     "outputs": [
      {
       "output_type": "stream",
       "stream": "stdout",
       "text": [
        "05/01/2014\n",
        "06/30/2014\n",
        "{\n",
        "  \"lobbying_issues\": {\n",
        "    \"lobbying_issues\": [\n",
        "      {\n",
        "        \"issue_code\": \"DEF\"\n",
        "      }, \n",
        "      {\n",
        "        \"issue_code\": \"HOM\"\n",
        "      }\n",
        "    ]\n",
        "  }, \n",
        "  \"identifiers\": {\n",
        "    \"registrant_house_id\": \"42262\", \n",
        "    \"registrant_senate_id\": \"401047945\"\n",
        "  }, \n",
        "  \"affiliated_organizations\": {\n",
        "    \"affiliated_organizations_yes\": false, \n",
        "    \"affiliated_organizations_url\": null, \n",
        "    \"affiliated_organizations\": [], \n",
        "    \"affiliated_organizations_no\": true\n",
        "  }, \n",
        "  \"datetimes\": {\n",
        "    \"effective_date\": \"2014-05-01T00:00:00\", \n",
        "    \"signature_date\": \"2014-06-30T00:00:00\"\n",
        "  }, \n",
        "  \"client\": {\n",
        "    \"client_country\": \"USA\", \n",
        "    \"client_ppb_city\": \"\", \n",
        "    \"client_self\": false, \n",
        "    \"client_name\": \"Technology and Suipply Management, LLC\", \n",
        "    \"client_city\": \"Fairfax\", \n",
        "    \"client_zip\": \"22030\", \n",
        "    \"client_ppb_zip\": \"\", \n",
        "    \"client_ppb_country\": \"\", \n",
        "    \"client_ppb_state\": \"\", \n",
        "    \"client_general_description\": \"Government contracting and commercial logistics\", \n",
        "    \"client_state\": \"VA\", \n",
        "    \"client_address\": \"3877 Fairfax Ridge Road - Suite 110N\"\n",
        "  }, \n",
        "  \"foreign_entities\": {\n",
        "    \"foreign_entities_yes\": false, \n",
        "    \"foreign_entities\": [], \n",
        "    \"foreign_entities_no\": true\n",
        "  }, \n",
        "  \"lobbyists\": {\n",
        "    \"lobbyists\": [\n",
        "      {\n",
        "        \"lobbyist_covered_official_position\": \"\", \n",
        "        \"lobbyist_first_name\": \"Andrew\", \n",
        "        \"lobbyist_last_name\": \"Wahlquist\", \n",
        "        \"lobbyist_suffix\": \"Mr.\"\n",
        "      }\n",
        "    ]\n",
        "  }, \n",
        "  \"signature\": {\n",
        "    \"signature\": \"Digitally Signed By: Andrew Wahlquist - Consultant\"\n",
        "  }, \n",
        "  \"lobbying_issues_detail\": {\n",
        "    \"lobbying_issues_detail\": \"Promote aerostat technology for border security\"\n",
        "  }, \n",
        "  \"registrant\": {\n",
        "    \"registrant_name\": \"Mr.\", \n",
        "    \"registrant_zip\": \"22101\", \n",
        "    \"registrant_address_one\": \"6622 Madison McLean Drive\", \n",
        "    \"self_employed_individual\": true, \n",
        "    \"registrant_ppb_city\": \"\", \n",
        "    \"registrant_ppb_zip\": \"\", \n",
        "    \"registrant_city\": \"McLean\", \n",
        "    \"registrant_email\": \"awahlquist@cox.net\", \n",
        "    \"registrant_state\": \"VA\", \n",
        "    \"registrant_ppb_state\": \"\", \n",
        "    \"organization_or_lobbying_firm\": false, \n",
        "    \"registrant_country\": \"USA\", \n",
        "    \"registrant_address_two\": \"\", \n",
        "    \"registrant_contact\": \"Mr. Andrew Wahlquist\", \n",
        "    \"registrant_international_phone\": false, \n",
        "    \"registrant_phone\": \"2025778848\", \n",
        "    \"registrant_general_description\": \"Government relations and business development\", \n",
        "    \"registrant_ppb_country\": \"\"\n",
        "  }, \n",
        "  \"document_id\": \"a25b34ae-5ccb-409f-848d-f4fa008a06b4\", \n",
        "  \"registration_type\": {\n",
        "    \"amendment\": false, \n",
        "    \"new_registrant\": false, \n",
        "    \"new_client_for_existing_registrant\": true\n",
        "  }\n",
        "}\n"
       ]
      }
     ],
     "prompt_number": 252
    },
    {
     "cell_type": "code",
     "collapsed": false,
     "input": [
      "\"goo\""
     ],
     "language": "python",
     "metadata": {},
     "outputs": [
      {
       "metadata": {},
       "output_type": "pyout",
       "prompt_number": 253,
       "text": [
        "'goo'"
       ]
      }
     ],
     "prompt_number": 253
    },
    {
     "cell_type": "code",
     "collapsed": false,
     "input": [
      "dt = datetime(2014, 4, 1, 0, 0) "
     ],
     "language": "python",
     "metadata": {},
     "outputs": [],
     "prompt_number": 254
    },
    {
     "cell_type": "code",
     "collapsed": false,
     "input": [
      "dt.isoformat()"
     ],
     "language": "python",
     "metadata": {},
     "outputs": [
      {
       "metadata": {},
       "output_type": "pyout",
       "prompt_number": 255,
       "text": [
        "'2014-04-01T00:00:00'"
       ]
      }
     ],
     "prompt_number": 255
    },
    {
     "cell_type": "markdown",
     "metadata": {},
     "source": [
      "# LD-2"
     ]
    },
    {
     "cell_type": "code",
     "collapsed": false,
     "input": [
      "_params = {'event': 'getFilingDetails',\n",
      "           'filingID': '80b956e1-3448-404a-bdfd-558ffe2631ce',\n",
      "           'filingTypeID': 69}\n",
      "\n",
      "resp = requests.get(_filing_detail_url, params=_params)\n",
      "multiple_issues =  etree.parse(StringIO(resp.text), html_parser)"
     ],
     "language": "python",
     "metadata": {},
     "outputs": [],
     "prompt_number": 256
    },
    {
     "cell_type": "code",
     "collapsed": false,
     "input": [
      "print etree.tostring(multiple_issues.xpath('/html/body/table[4]/tbody/tr[5]/td[1]/table')[0])"
     ],
     "language": "python",
     "metadata": {},
     "outputs": [
      {
       "output_type": "stream",
       "stream": "stdout",
       "text": [
        "<table width=\"65%\">\n",
        "<col width=\"47.77%\"/>\n",
        "<col span=\"2\" width=\"8%\"/>\n",
        "<col width=\"36.23%\"/>\n",
        "<tbody>\n",
        "<td style=\"text-decoration:underline;font-size=75%\">$5,000 or more</td><td><input disabled=\"disabled\" type=\"checkbox\" checked=\"checked\"/></td><td style=\"text-align:right\">$ </td><td>\n",
        "<div style=\"border-bottom:solid 1px\">&#160;50,000.00</div>\n",
        "</td>\n",
        "</tbody>\n",
        "</table>\n",
        "\n"
       ]
      }
     ],
     "prompt_number": 257
    },
    {
     "cell_type": "code",
     "collapsed": false,
     "input": [
      "for e in multiple_issues.xpath('//p[@style=\"page-break-before:always\"]'):\n",
      "    print etree.tostring(e)\n",
      "    print \"=\"*80"
     ],
     "language": "python",
     "metadata": {},
     "outputs": [
      {
       "output_type": "stream",
       "stream": "stdout",
       "text": [
        "<p style=\"page-break-before:always\">\n",
        "<span style=\"font-weight:bold\">LOBBYING ACTIVITY.</span>\n",
        "                        Select as many codes as necessary to reflect the general issue areas in which the registrant\n",
        "                        engaged in lobbying on behalf of the client during the reporting period. Using\n",
        "                        a separate page for each code, provide information as requested. Add additional page(s)\n",
        "                        as needed.\n",
        "                    </p>\n",
        "\n",
        "================================================================================\n",
        "<p style=\"page-break-before:always\">\n",
        "<span style=\"font-weight:bold\">LOBBYING ACTIVITY.</span>\n",
        "                        Select as many codes as necessary to reflect the general issue areas in which the registrant\n",
        "                        engaged in lobbying on behalf of the client during the reporting period. Using\n",
        "                        a separate page for each code, provide information as requested. Add additional page(s)\n",
        "                        as needed.\n",
        "                    </p>\n",
        "\n",
        "================================================================================\n",
        "<p style=\"page-break-before:always\">\n",
        "<span style=\"font-weight:bold\">LOBBYING ACTIVITY.</span>\n",
        "                        Select as many codes as necessary to reflect the general issue areas in which the registrant\n",
        "                        engaged in lobbying on behalf of the client during the reporting period. Using\n",
        "                        a separate page for each code, provide information as requested. Add additional page(s)\n",
        "                        as needed.\n",
        "                    </p>\n",
        "\n",
        "================================================================================\n"
       ]
      }
     ],
     "prompt_number": 258
    },
    {
     "cell_type": "code",
     "collapsed": false,
     "input": [
      "page_break = multiple_issues.xpath('//p[@style=\"page-break-before:always\"]')[0]"
     ],
     "language": "python",
     "metadata": {},
     "outputs": [],
     "prompt_number": 259
    },
    {
     "cell_type": "code",
     "collapsed": false,
     "input": [
      "#general_issue_code = multiple_issues.xpath('//p[@style=\"page-break-before:always\"]/following-sibling::p[1]')[0]\n",
      "general_issue_code = multiple_issues.xpath('//p[contains(.,\"15. General issue area\")]')[0]\n",
      "print etree.tostring(general_issue_code)"
     ],
     "language": "python",
     "metadata": {},
     "outputs": [
      {
       "output_type": "stream",
       "stream": "stdout",
       "text": [
        "<p>15. General issue area code TAX </p>\n",
        "\n"
       ]
      }
     ],
     "prompt_number": 260
    },
    {
     "cell_type": "code",
     "collapsed": false,
     "input": [
      "[etree.tostring(e) for e in multiple_issues.xpath('//p[contains(.,\"15. General issue area\")]')]"
     ],
     "language": "python",
     "metadata": {},
     "outputs": [
      {
       "metadata": {},
       "output_type": "pyout",
       "prompt_number": 261,
       "text": [
        "['<p>15. General issue area code TAX </p>\\n',\n",
        " '<p>15. General issue area code MMM </p>\\n',\n",
        " '<p>15. General issue area code ECN </p>\\n']"
       ]
      }
     ],
     "prompt_number": 261
    },
    {
     "cell_type": "code",
     "collapsed": false,
     "input": [
      "general_issue_code = page_break.getnext()\n",
      "filler = general_issue_code.getnext()\n",
      "specific_lobbying_issues = filler.getnext()\n",
      "congress_agency_check = specific_lobbying_issues.getnext()\n",
      "congress_agency_detail = congress_agency_check.getnext()\n",
      "filler = congress_agency_detail.getnext()\n",
      "lobbyists = filler.getnext()\n",
      "foreign_entity_check = lobbyists.getnext()\n",
      "foreign_entity_list = foreign_entity_check.getnext()"
     ],
     "language": "python",
     "metadata": {},
     "outputs": [],
     "prompt_number": 262
    },
    {
     "cell_type": "code",
     "collapsed": false,
     "input": [
      "fs = [general_issue_code,\n",
      "      specific_lobbying_issues,\n",
      "      congress_agency_check,\n",
      "      congress_agency_detail,\n",
      "      lobbyists,\n",
      "      foreign_entity_check,\n",
      "      foreign_entity_list]\n",
      "\n",
      "for f in fs:\n",
      "    print etree.tostring(f)\n",
      "    print '='*20"
     ],
     "language": "python",
     "metadata": {},
     "outputs": [
      {
       "output_type": "stream",
       "stream": "stdout",
       "text": [
        "<p>15. General issue area code TAX </p>\n",
        "\n",
        "====================\n",
        "<p class=\"lightbox\">S. 232/H.R. 523, The Protect Medical Innovation Act of 2013.<br/>\n",
        "</p>\n",
        "\n",
        "====================\n",
        "<p>17. House(s) of Congress and Federal agencies\n",
        "                        <span style=\"padding-left:2em\"><input disabled=\"disabled\" type=\"checkbox\"/></span>\n",
        "                        Check if None\n",
        "                    </p>\n",
        "\n",
        "====================\n",
        "<p class=\"lightbox\">U.S. HOUSE OF REPRESENTATIVES,</p>\n",
        "\n",
        "====================\n",
        "<table width=\"100%\">\n",
        "<col span=\"2\" width=\"23.2%\"/>\n",
        "<col width=\"5.8%\"/>\n",
        "<col width=\"42%\"/>\n",
        "<col width=\"5.8%\"/>\n",
        "<tbody>\n",
        "<tr>\n",
        "<td>First Name</td><td>Last Name</td><td style=\"border-right:2px solid\">Suffix</td><td style=\"text-align:center;border-right:2px solid\">\n",
        "                                    Covered Official Position (if applicable)\n",
        "                                </td><td style=\"border-right:2px solid\">New</td>\n",
        "</tr>\n",
        "<tr>\n",
        "<td style=\"border-bottom:2px solid\">\n",
        "<div class=\"lightbox\">Jodie</div>\n",
        "</td><td style=\"border-bottom:2px solid\">\n",
        "<div class=\"lightbox\">Curtis</div>\n",
        "</td><td style=\"border-bottom:2px solid;border-right:2px solid\">\n",
        "<div class=\"lightbox\">&#160;</div>\n",
        "</td><td style=\"border-bottom:2px solid;border-right:2px solid\">\n",
        "<div class=\"lightbox\">&#160;</div>\n",
        "</td><td style=\"border-bottom:2px solid;border-right:2px solid\"><input disabled=\"disabled\" type=\"checkbox\"/></td>\n",
        "</tr>\n",
        "</tbody>\n",
        "</table>\n",
        "\n",
        "====================\n",
        "<p>19. Interest of each foreign entity in the specific issues listed on line 16 above\n",
        "                        <span style=\"padding-left:2em\"><input disabled=\"disabled\" type=\"checkbox\" checked=\"checked\"/></span>\n",
        "                        Check if None\n",
        "                    </p>\n",
        "\n",
        "====================\n",
        "<p class=\"lightbox\">&#8203;</p>\n",
        "\n",
        "====================\n"
       ]
      }
     ],
     "prompt_number": 263
    },
    {
     "cell_type": "code",
     "collapsed": false,
     "input": [
      "[etree.tostring(e) for e in general_issue_code.xpath('../following-sibling::p')]"
     ],
     "language": "python",
     "metadata": {},
     "outputs": [
      {
       "metadata": {},
       "output_type": "pyout",
       "prompt_number": 264,
       "text": [
        "[]"
       ]
      }
     ],
     "prompt_number": 264
    },
    {
     "cell_type": "code",
     "collapsed": false,
     "input": [
      "print etree.tostring(general_issue_code.xpath(\n",
      "                     'following-sibling::p[7]')[0])"
     ],
     "language": "python",
     "metadata": {},
     "outputs": [
      {
       "output_type": "stream",
       "stream": "stdout",
       "text": [
        "<p class=\"lightbox\">&#8203;</p>\n",
        "\n"
       ]
      }
     ],
     "prompt_number": 265
    },
    {
     "cell_type": "code",
     "collapsed": false,
     "input": [
      "second_gic = multiple_issues.xpath('//p[@style=\"page-break-before:always\"]/following-sibling::p[1]')[1]\n",
      "\n",
      "for r in second_gic.xpath('following-sibling::table[1]/tbody/tr[position() > 1]'):\n",
      "    print etree.tostring(r)"
     ],
     "language": "python",
     "metadata": {},
     "outputs": [
      {
       "output_type": "stream",
       "stream": "stdout",
       "text": [
        "<tr>\n",
        "<td style=\"border-bottom:2px solid\">\n",
        "<div class=\"lightbox\">Jodie</div>\n",
        "</td><td style=\"border-bottom:2px solid\">\n",
        "<div class=\"lightbox\">Curtis</div>\n",
        "</td><td style=\"border-bottom:2px solid;border-right:2px solid\">\n",
        "<div class=\"lightbox\">&#160;</div>\n",
        "</td><td style=\"border-bottom:2px solid;border-right:2px solid\">\n",
        "<div class=\"lightbox\">&#160;</div>\n",
        "</td><td style=\"border-bottom:2px solid;border-right:2px solid\"><input disabled=\"disabled\" type=\"checkbox\"/></td>\n",
        "</tr>\n",
        "\n",
        "<tr>\n",
        "<td style=\"border-bottom:2px solid\">\n",
        "<div class=\"lightbox\">Jim</div>\n",
        "</td><td style=\"border-bottom:2px solid\">\n",
        "<div class=\"lightbox\">Twaddell</div>\n",
        "</td><td style=\"border-bottom:2px solid;border-right:2px solid\">\n",
        "<div class=\"lightbox\">&#160;</div>\n",
        "</td><td style=\"border-bottom:2px solid;border-right:2px solid\">\n",
        "<div class=\"lightbox\">Leg. Aide/Dpty Comm. Dir./Senator Arlen Specter</div>\n",
        "</td><td style=\"border-bottom:2px solid;border-right:2px solid\"><input disabled=\"disabled\" type=\"checkbox\" checked=\"checked\"/></td>\n",
        "</tr>\n",
        "\n",
        "<tr>\n",
        "<td style=\"border-bottom:2px solid\">\n",
        "<div class=\"lightbox\">Jeremy </div>\n",
        "</td><td style=\"border-bottom:2px solid\">\n",
        "<div class=\"lightbox\">Scott</div>\n",
        "</td><td style=\"border-bottom:2px solid;border-right:2px solid\">\n",
        "<div class=\"lightbox\">&#160;</div>\n",
        "</td><td style=\"border-bottom:2px solid;border-right:2px solid\">\n",
        "<div class=\"lightbox\">Staff Asst./Leg. Corr., Senator Mike DeWine</div>\n",
        "</td><td style=\"border-bottom:2px solid;border-right:2px solid\"><input disabled=\"disabled\" type=\"checkbox\" checked=\"checked\"/></td>\n",
        "</tr>\n",
        "\n",
        "<tr>\n",
        "<td style=\"border-bottom:2px solid\">\n",
        "<div class=\"lightbox\">Ilisa</div>\n",
        "</td><td style=\"border-bottom:2px solid\">\n",
        "<div class=\"lightbox\">Halpern Paul</div>\n",
        "</td><td style=\"border-bottom:2px solid;border-right:2px solid\">\n",
        "<div class=\"lightbox\">&#160;</div>\n",
        "</td><td style=\"border-bottom:2px solid;border-right:2px solid\">\n",
        "<div class=\"lightbox\">Staff Asst./Leg. Corr., Senator Dianne Feinstein</div>\n",
        "</td><td style=\"border-bottom:2px solid;border-right:2px solid\"><input disabled=\"disabled\" type=\"checkbox\" checked=\"checked\"/></td>\n",
        "</tr>\n",
        "\n",
        "<tr>\n",
        "<td style=\"border-bottom:2px solid\">\n",
        "<div class=\"lightbox\">Rebecca</div>\n",
        "</td><td style=\"border-bottom:2px solid\">\n",
        "<div class=\"lightbox\">McGrath</div>\n",
        "</td><td style=\"border-bottom:2px solid;border-right:2px solid\">\n",
        "<div class=\"lightbox\">&#160;</div>\n",
        "</td><td style=\"border-bottom:2px solid;border-right:2px solid\">\n",
        "<div class=\"lightbox\">Leg. Asst./Scheduler, Senator Chris Dodd</div>\n",
        "</td><td style=\"border-bottom:2px solid;border-right:2px solid\"><input disabled=\"disabled\" type=\"checkbox\" checked=\"checked\"/></td>\n",
        "</tr>\n",
        "\n",
        "<tr>\n",
        "<td style=\"border-bottom:2px solid\">\n",
        "<div class=\"lightbox\">Julie</div>\n",
        "</td><td style=\"border-bottom:2px solid\">\n",
        "<div class=\"lightbox\">Hyams</div>\n",
        "</td><td style=\"border-bottom:2px solid;border-right:2px solid\">\n",
        "<div class=\"lightbox\">&#160;</div>\n",
        "</td><td style=\"border-bottom:2px solid;border-right:2px solid\">\n",
        "<div class=\"lightbox\">Leg. Asst./Staff Asst. Cong. Stokes</div>\n",
        "</td><td style=\"border-bottom:2px solid;border-right:2px solid\"><input disabled=\"disabled\" type=\"checkbox\" checked=\"checked\"/></td>\n",
        "</tr>\n",
        "\n",
        "<tr>\n",
        "<td style=\"border-bottom:2px solid\">\n",
        "<div class=\"lightbox\">Erin</div>\n",
        "</td><td style=\"border-bottom:2px solid\">\n",
        "<div class=\"lightbox\">Morton</div>\n",
        "</td><td style=\"border-bottom:2px solid;border-right:2px solid\">\n",
        "<div class=\"lightbox\">&#160;</div>\n",
        "</td><td style=\"border-bottom:2px solid;border-right:2px solid\">\n",
        "<div class=\"lightbox\">&#160;</div>\n",
        "</td><td style=\"border-bottom:2px solid;border-right:2px solid\"><input disabled=\"disabled\" type=\"checkbox\" checked=\"checked\"/></td>\n",
        "</tr>\n",
        "\n",
        "<tr>\n",
        "<td style=\"border-bottom:2px solid\">\n",
        "<div class=\"lightbox\">Anna</div>\n",
        "</td><td style=\"border-bottom:2px solid\">\n",
        "<div class=\"lightbox\">Howard</div>\n",
        "</td><td style=\"border-bottom:2px solid;border-right:2px solid\">\n",
        "<div class=\"lightbox\">&#160;</div>\n",
        "</td><td style=\"border-bottom:2px solid;border-right:2px solid\">\n",
        "<div class=\"lightbox\">&#160;</div>\n",
        "</td><td style=\"border-bottom:2px solid;border-right:2px solid\"><input disabled=\"disabled\" type=\"checkbox\"/></td>\n",
        "</tr>\n",
        "\n"
       ]
      }
     ],
     "prompt_number": 266
    },
    {
     "cell_type": "code",
     "collapsed": false,
     "input": [
      "print etree.tostring(multiple_issues.xpath('//p[contains(.,\"20.\")]')[0])"
     ],
     "language": "python",
     "metadata": {},
     "outputs": [
      {
       "output_type": "stream",
       "stream": "stdout",
       "text": [
        "<p>20. Client new address</p>\n",
        "\n"
       ]
      }
     ],
     "prompt_number": 267
    },
    {
     "cell_type": "code",
     "collapsed": false,
     "input": [
      "found = multiple_issues.xpath('//p[contains(.,\"23. Name of each previously\")]'\n",
      "                              '/following-sibling::table[1]'\n",
      "                              '/tbody/tr[position()>1]/td/table'\n",
      "                              '/tbody')\n",
      "for e in found:\n",
      "    print etree.tostring(e)\n",
      "    print '='*30"
     ],
     "language": "python",
     "metadata": {},
     "outputs": [
      {
       "output_type": "stream",
       "stream": "stdout",
       "text": [
        "<tbody>\n",
        "<td>\n",
        "<div style=\"border-bottom:solid 2px\">&#160;Andrew </div>\n",
        "</td><td>\n",
        "<div style=\"border-bottom:solid 2px\">&#160;Bowman</div>\n",
        "</td><td>\n",
        "<div style=\"border-bottom:solid 2px\">&#160;</div>\n",
        "</td>\n",
        "</tbody>\n",
        "\n",
        "==============================\n",
        "<tbody>\n",
        "<td>\n",
        "<div style=\"border-bottom:solid 2px\">&#160;</div>\n",
        "</td><td>\n",
        "<div style=\"border-bottom:solid 2px\">&#160;</div>\n",
        "</td><td>\n",
        "<div style=\"border-bottom:solid 2px\">&#160;</div>\n",
        "</td>\n",
        "</tbody>\n",
        "\n",
        "==============================\n",
        "<tbody>\n",
        "<td>\n",
        "<div style=\"border-bottom:solid 2px\">&#160;</div>\n",
        "</td><td>\n",
        "<div style=\"border-bottom:solid 2px\">&#160;</div>\n",
        "</td><td>\n",
        "<div style=\"border-bottom:solid 2px\">&#160;</div>\n",
        "</td>\n",
        "</tbody>\n",
        "\n",
        "==============================\n",
        "<tbody>\n",
        "<td>\n",
        "<div style=\"border-bottom:solid 2px\">&#160;</div>\n",
        "</td><td>\n",
        "<div style=\"border-bottom:solid 2px\">&#160;</div>\n",
        "</td><td>\n",
        "<div style=\"border-bottom:solid 2px\">&#160;</div>\n",
        "</td>\n",
        "</tbody>\n",
        "\n",
        "==============================\n",
        "<tbody>\n",
        "<td>\n",
        "<div style=\"border-bottom:solid 2px\">&#160;</div>\n",
        "</td><td>\n",
        "<div style=\"border-bottom:solid 2px\">&#160;</div>\n",
        "</td><td>\n",
        "<div style=\"border-bottom:solid 2px\">&#160;</div>\n",
        "</td>\n",
        "</tbody>\n",
        "\n",
        "==============================\n",
        "<tbody>\n",
        "<td>\n",
        "<div style=\"border-bottom:solid 2px\">&#160;</div>\n",
        "</td><td>\n",
        "<div style=\"border-bottom:solid 2px\">&#160;</div>\n",
        "</td><td>\n",
        "<div style=\"border-bottom:solid 2px\">&#160;</div>\n",
        "</td>\n",
        "</tbody>\n",
        "\n",
        "==============================\n",
        "<tbody>\n",
        "<td>\n",
        "<div style=\"border-bottom:solid 2px\">&#160;</div>\n",
        "</td><td>\n",
        "<div style=\"border-bottom:solid 2px\">&#160;</div>\n",
        "</td><td>\n",
        "<div style=\"border-bottom:solid 2px\">&#160;</div>\n",
        "</td>\n",
        "</tbody>\n",
        "\n",
        "==============================\n",
        "<tbody>\n",
        "<td>\n",
        "<div style=\"border-bottom:solid 2px\">&#160;</div>\n",
        "</td><td>\n",
        "<div style=\"border-bottom:solid 2px\">&#160;</div>\n",
        "</td><td>\n",
        "<div style=\"border-bottom:solid 2px\">&#160;</div>\n",
        "</td>\n",
        "</tbody>\n",
        "\n",
        "==============================\n"
       ]
      }
     ],
     "prompt_number": 268
    },
    {
     "cell_type": "code",
     "collapsed": false,
     "input": [
      "resp.url"
     ],
     "language": "python",
     "metadata": {},
     "outputs": [
      {
       "metadata": {},
       "output_type": "pyout",
       "prompt_number": 269,
       "text": [
        "u'http://soprweb.senate.gov/index.cfm?filingTypeID=69&filingID=80b956e1-3448-404a-bdfd-558ffe2631ce&event=getFilingDetails'"
       ]
      }
     ],
     "prompt_number": 269
    },
    {
     "cell_type": "code",
     "collapsed": false,
     "input": [
      "len(multiple_issues.xpath('//p[contains(.,\"24. General lobbying issue\")]/following-sibling::table[1]/tbody/tr/td/div'))"
     ],
     "language": "python",
     "metadata": {},
     "outputs": [
      {
       "metadata": {},
       "output_type": "pyout",
       "prompt_number": 270,
       "text": [
        "18"
       ]
      }
     ],
     "prompt_number": 270
    },
    {
     "cell_type": "markdown",
     "metadata": {},
     "source": [
      "# multiple added affiliated orgs"
     ]
    },
    {
     "cell_type": "code",
     "collapsed": false,
     "input": [
      "_params = {'event': 'getFilingDetails',\n",
      "           'filingID': '42524728-28e1-424f-9608-2b4f05f7cd2b',\n",
      "           'filingTypeID': 82}\n",
      "\n",
      "resp = requests.get(_filing_detail_url, params=_params)\n",
      "multiple_added_aff =  etree.parse(StringIO(resp.text), html_parser)"
     ],
     "language": "python",
     "metadata": {},
     "outputs": [],
     "prompt_number": 271
    },
    {
     "cell_type": "code",
     "collapsed": false,
     "input": [
      "rows = multiple_added_aff.xpath('//p[contains(.,\"25. Add the following\")]'\n",
      "                         '/following-sibling::table[1]/tbody/tr')\n",
      "rows"
     ],
     "language": "python",
     "metadata": {},
     "outputs": [
      {
       "metadata": {},
       "output_type": "pyout",
       "prompt_number": 272,
       "text": [
        "[<Element tr at 0x7fd28f2695f0>, <Element tr at 0x7fd28f269638>]"
       ]
      }
     ],
     "prompt_number": 272
    },
    {
     "cell_type": "code",
     "collapsed": false,
     "input": [
      "for r in rows:\n",
      "    for e in (r.xpath('td[3]/table/tbody/tr[2]/td[2]')):\n",
      "        print etree.tostring(e)\n",
      "    #print etree.tostring(r)\n",
      "    print \"=\"*20"
     ],
     "language": "python",
     "metadata": {},
     "outputs": [
      {
       "output_type": "stream",
       "stream": "stdout",
       "text": [
        "<td>Country USA</td>\n",
        "\n",
        "====================\n",
        "<td>Country \n",
        "        </td>\n",
        "\n",
        "====================\n"
       ]
      }
     ],
     "prompt_number": 273
    },
    {
     "cell_type": "code",
     "collapsed": false,
     "input": [
      "r.xpath('td[3]/table/tbody/tr[2]/td[2]')[0].text.split()"
     ],
     "language": "python",
     "metadata": {},
     "outputs": [
      {
       "metadata": {},
       "output_type": "pyout",
       "prompt_number": 274,
       "text": [
        "['Country']"
       ]
      }
     ],
     "prompt_number": 274
    },
    {
     "cell_type": "code",
     "collapsed": false,
     "input": [
      "r.getchildren()"
     ],
     "language": "python",
     "metadata": {},
     "outputs": [
      {
       "metadata": {},
       "output_type": "pyout",
       "prompt_number": 275,
       "text": [
        "[<Element td at 0x7fd28d99be18>,\n",
        " <Element td at 0x7fd28d9a47e8>,\n",
        " <Element td at 0x7fd28d9a4758>]"
       ]
      }
     ],
     "prompt_number": 275
    },
    {
     "cell_type": "markdown",
     "metadata": {},
     "source": [
      "# multiple no longer affiliated"
     ]
    },
    {
     "cell_type": "code",
     "collapsed": false,
     "input": [
      "_params = {'event': 'getFilingDetails',\n",
      "           'filingID': '2897035b-c56e-4d05-9a51-cab6a4b505f8',\n",
      "           'filingTypeID': 53}\n",
      "\n",
      "resp = requests.get(_filing_detail_url, params=_params)\n",
      "multiple_removed_aff =  etree.parse(StringIO(resp.text), html_parser)"
     ],
     "language": "python",
     "metadata": {},
     "outputs": [],
     "prompt_number": 276
    },
    {
     "cell_type": "code",
     "collapsed": false,
     "input": [
      "table = multiple_removed_aff.xpath('//p[contains(.,\"26. Name of each previously\")]'\n",
      "                         '/following-sibling::table[1]')[0]"
     ],
     "language": "python",
     "metadata": {},
     "outputs": [],
     "prompt_number": 277
    },
    {
     "cell_type": "code",
     "collapsed": false,
     "input": [
      "for e in table.xpath('tbody/tr/td'):\n",
      "    print etree.tostring(e)"
     ],
     "language": "python",
     "metadata": {},
     "outputs": [
      {
       "output_type": "stream",
       "stream": "stdout",
       "text": [
        "<td><span style=\"font-weight:bold;padding:1px\" class=\"lightbox\">1</span> Sylvan Learning</td>\n",
        "<td><span style=\"font-weight:bold;padding:1px\" class=\"lightbox\">2</span> Educate Online, Inc.</td>\n",
        "<td><span style=\"font-weight:bold;padding:1px\" class=\"lightbox\">3</span> Educate, Inc.</td>\n",
        "\n"
       ]
      }
     ],
     "prompt_number": 278
    },
    {
     "cell_type": "code",
     "collapsed": false,
     "input": [
      "table.xpath('tbody/tr/td/span')"
     ],
     "language": "python",
     "metadata": {},
     "outputs": [
      {
       "metadata": {},
       "output_type": "pyout",
       "prompt_number": 279,
       "text": [
        "[<Element span at 0x7fd28d9a4680>,\n",
        " <Element span at 0x7fd28d9a4710>,\n",
        " <Element span at 0x7fd28d9a4320>]"
       ]
      }
     ],
     "prompt_number": 279
    },
    {
     "cell_type": "code",
     "collapsed": false,
     "input": [
      "e = table.xpath('tbody/tr/td/span')[0]"
     ],
     "language": "python",
     "metadata": {},
     "outputs": [],
     "prompt_number": 280
    },
    {
     "cell_type": "code",
     "collapsed": false,
     "input": [
      "e.tail"
     ],
     "language": "python",
     "metadata": {},
     "outputs": [
      {
       "metadata": {},
       "output_type": "pyout",
       "prompt_number": 281,
       "text": [
        "' Sylvan Learning'"
       ]
      }
     ],
     "prompt_number": 281
    },
    {
     "cell_type": "code",
     "collapsed": false,
     "input": [
      "[e.tail.strip() for e in multiple_removed_aff.xpath('//p[contains(.,\"26. Name of each previously\")]'\n",
      "                         '/following-sibling::table[1]/tbody/tr/td/span')]"
     ],
     "language": "python",
     "metadata": {},
     "outputs": [
      {
       "metadata": {},
       "output_type": "pyout",
       "prompt_number": 282,
       "text": [
        "['Sylvan Learning', 'Educate Online, Inc.', 'Educate, Inc.']"
       ]
      }
     ],
     "prompt_number": 282
    },
    {
     "cell_type": "markdown",
     "metadata": {},
     "source": [
      "# multiple added foreign"
     ]
    },
    {
     "cell_type": "code",
     "collapsed": false,
     "input": [
      "_params = {'event': 'getFilingDetails',\n",
      "           'filingID': '6e8effc6-e1e3-413e-86c9-24eda20858f2',\n",
      "           'filingTypeID': 60}\n",
      "\n",
      "resp = requests.get(_filing_detail_url, params=_params)\n",
      "multiple_added_foreign =  etree.parse(StringIO(resp.text), html_parser)"
     ],
     "language": "python",
     "metadata": {},
     "outputs": [],
     "prompt_number": 283
    },
    {
     "cell_type": "code",
     "collapsed": false,
     "input": [
      "rows = multiple_added_foreign.xpath('//p[contains(.,\"27. Add the following foreign\")]'\n",
      "                             '/following-sibling::table[1]/tbody/tr')"
     ],
     "language": "python",
     "metadata": {},
     "outputs": [],
     "prompt_number": 284
    },
    {
     "cell_type": "code",
     "collapsed": false,
     "input": [
      "for r in rows:\n",
      "    print etree.tostring(r)\n",
      "    print \"=\"*20"
     ],
     "language": "python",
     "metadata": {},
     "outputs": [
      {
       "output_type": "stream",
       "stream": "stdout",
       "text": [
        "<tr>\n",
        "<td style=\"border-right:solid 1px\">E.ON AG</td><td style=\"border-right:solid 1px\">\n",
        "<table width=\"100%\">\n",
        "<col width=\"50%\"/>\n",
        "<col width=\"30%\"/>\n",
        "<col width=\"20%\"/>\n",
        "<tbody>\n",
        "<tr>\n",
        "<td colspan=\"3\">E.ON - Platz 1 40479</td>\n",
        "</tr>\n",
        "<tr>\n",
        "<td>Dusseldorf</td><td>\n",
        "        </td><td>DEN</td>\n",
        "</tr>\n",
        "</tbody>\n",
        "</table>\n",
        "</td><td style=\"border-right:solid 1px\">\n",
        "<table width=\"100%\">\n",
        "<col span=\"2\" width=\"50%\"/>\n",
        "<tbody>\n",
        "<tr>\n",
        "<td colspan=\"2\">City Dusseldorf</td>\n",
        "</tr>\n",
        "<tr>\n",
        "<td>State \n",
        "        </td><td>Country DEN</td>\n",
        "</tr>\n",
        "</tbody>\n",
        "</table>\n",
        "</td><td style=\"border-right:solid 1px\">0</td><td style=\"text-align:right\"> %</td>\n",
        "</tr>\n",
        "\n",
        "====================\n",
        "<tr>\n",
        "<td style=\"border-right:solid 1px\">E.ON AG</td><td style=\"border-right:solid 1px\">\n",
        "<table width=\"100%\">\n",
        "<col width=\"50%\"/>\n",
        "<col width=\"30%\"/>\n",
        "<col width=\"20%\"/>\n",
        "<tbody>\n",
        "<tr>\n",
        "<td colspan=\"3\">E.ON - Platz 1 40479</td>\n",
        "</tr>\n",
        "<tr>\n",
        "<td>Dusseldorf</td><td>\n",
        "        </td><td>DEN</td>\n",
        "</tr>\n",
        "</tbody>\n",
        "</table>\n",
        "</td><td style=\"border-right:solid 1px\">\n",
        "<table width=\"100%\">\n",
        "<col span=\"2\" width=\"50%\"/>\n",
        "<tbody>\n",
        "<tr>\n",
        "<td colspan=\"2\">City Dusseldorf</td>\n",
        "</tr>\n",
        "<tr>\n",
        "<td>State \n",
        "        </td><td>Country DEN</td>\n",
        "</tr>\n",
        "</tbody>\n",
        "</table>\n",
        "</td><td style=\"border-right:solid 1px\">0</td><td style=\"text-align:right\"> %</td>\n",
        "</tr>\n",
        "\n",
        "====================\n"
       ]
      }
     ],
     "prompt_number": 285
    },
    {
     "cell_type": "code",
     "collapsed": false,
     "input": [
      "for r in rows:\n",
      "    for e in (r.xpath('td[5]')):\n",
      "        print etree.tostring(e)\n",
      "        print \"=\"*20\n",
      "    print \"=\"*20"
     ],
     "language": "python",
     "metadata": {},
     "outputs": [
      {
       "output_type": "stream",
       "stream": "stdout",
       "text": [
        "<td style=\"text-align:right\"> %</td>\n",
        "\n",
        "====================\n",
        "====================\n",
        "<td style=\"text-align:right\"> %</td>\n",
        "\n",
        "====================\n",
        "====================\n"
       ]
      }
     ],
     "prompt_number": 286
    },
    {
     "cell_type": "code",
     "collapsed": false,
     "input": [
      "print etree.tostring(r)"
     ],
     "language": "python",
     "metadata": {},
     "outputs": [
      {
       "output_type": "stream",
       "stream": "stdout",
       "text": [
        "<tr>\n",
        "<td style=\"border-right:solid 1px\">E.ON AG</td><td style=\"border-right:solid 1px\">\n",
        "<table width=\"100%\">\n",
        "<col width=\"50%\"/>\n",
        "<col width=\"30%\"/>\n",
        "<col width=\"20%\"/>\n",
        "<tbody>\n",
        "<tr>\n",
        "<td colspan=\"3\">E.ON - Platz 1 40479</td>\n",
        "</tr>\n",
        "<tr>\n",
        "<td>Dusseldorf</td><td>\n",
        "        </td><td>DEN</td>\n",
        "</tr>\n",
        "</tbody>\n",
        "</table>\n",
        "</td><td style=\"border-right:solid 1px\">\n",
        "<table width=\"100%\">\n",
        "<col span=\"2\" width=\"50%\"/>\n",
        "<tbody>\n",
        "<tr>\n",
        "<td colspan=\"2\">City Dusseldorf</td>\n",
        "</tr>\n",
        "<tr>\n",
        "<td>State \n",
        "        </td><td>Country DEN</td>\n",
        "</tr>\n",
        "</tbody>\n",
        "</table>\n",
        "</td><td style=\"border-right:solid 1px\">0</td><td style=\"text-align:right\"> %</td>\n",
        "</tr>\n",
        "\n"
       ]
      }
     ],
     "prompt_number": 287
    },
    {
     "cell_type": "code",
     "collapsed": false,
     "input": [
      "import locale"
     ],
     "language": "python",
     "metadata": {},
     "outputs": [],
     "prompt_number": 288
    },
    {
     "cell_type": "markdown",
     "metadata": {},
     "source": [
      "# multiple inactive foreign"
     ]
    },
    {
     "cell_type": "code",
     "collapsed": false,
     "input": [
      "_params = {'event': 'getFilingDetails',\n",
      "           'filingID': '55dd2926-23b4-489d-8132-b040cc6ddac5',\n",
      "           'filingTypeID': 78}\n",
      "\n",
      "resp = requests.get(_filing_detail_url, params=_params)\n",
      "multiple_inactive_foreign =  etree.parse(StringIO(resp.text), html_parser)    "
     ],
     "language": "python",
     "metadata": {},
     "outputs": [],
     "prompt_number": 290
    },
    {
     "cell_type": "code",
     "collapsed": false,
     "input": [
      "[e.tail.strip() for e in multiple_inactive_foreign.xpath(\n",
      "    '//p[contains(.,\"28. Name of each previously reported foreign entity\")]'\n",
      "    '/following-sibling::table[1]/tbody/tr/td/span')]"
     ],
     "language": "python",
     "metadata": {},
     "outputs": [
      {
       "metadata": {},
       "output_type": "pyout",
       "prompt_number": 291,
       "text": [
        "['CNH Global N.V.',\n",
        " '',\n",
        " '',\n",
        " 'Fiat Industrial S.p.A.',\n",
        " '',\n",
        " '',\n",
        " 'Fiat Netherlands Holding N.V.',\n",
        " '',\n",
        " '',\n",
        " '',\n",
        " '',\n",
        " '']"
       ]
      }
     ],
     "prompt_number": 291
    },
    {
     "cell_type": "code",
     "collapsed": false,
     "input": [
      "from collections import defaultdict, Counter\n",
      "record = defaultdict(dict)"
     ],
     "language": "python",
     "metadata": {},
     "outputs": [],
     "prompt_number": 292
    },
    {
     "cell_type": "code",
     "collapsed": false,
     "input": [
      "record['a'] = 2"
     ],
     "language": "python",
     "metadata": {},
     "outputs": [],
     "prompt_number": 293
    },
    {
     "cell_type": "code",
     "collapsed": false,
     "input": [
      "record"
     ],
     "language": "python",
     "metadata": {},
     "outputs": [
      {
       "metadata": {},
       "output_type": "pyout",
       "prompt_number": 294,
       "text": [
        "defaultdict(<type 'dict'>, {'a': 2})"
       ]
      }
     ],
     "prompt_number": 294
    },
    {
     "cell_type": "code",
     "collapsed": false,
     "input": [
      "json.dumps(record)"
     ],
     "language": "python",
     "metadata": {},
     "outputs": [
      {
       "metadata": {},
       "output_type": "pyout",
       "prompt_number": 295,
       "text": [
        "'{\"a\": 2}'"
       ]
      }
     ],
     "prompt_number": 295
    },
    {
     "cell_type": "code",
     "collapsed": false,
     "input": [
      "from glob import glob"
     ],
     "language": "python",
     "metadata": {},
     "outputs": [],
     "prompt_number": 296
    },
    {
     "cell_type": "code",
     "collapsed": false,
     "input": [
      "dirs = glob(os.path.join(settings.CACHE_DIR, 'sopr_html/200[89]/Q2/*.html'))\\\n",
      "       + glob(os.path.join(settings.CACHE_DIR, 'sopr_html/201[0-9]/Q2/*.html'))\n",
      "len(dirs)"
     ],
     "language": "python",
     "metadata": {},
     "outputs": [
      {
       "metadata": {},
       "output_type": "pyout",
       "prompt_number": 297,
       "text": [
        "41"
       ]
      }
     ],
     "prompt_number": 297
    },
    {
     "cell_type": "code",
     "collapsed": false,
     "input": [
      "Counter([i.split('/')[9] for i in dirs])"
     ],
     "language": "python",
     "metadata": {},
     "outputs": [
      {
       "metadata": {},
       "output_type": "pyout",
       "prompt_number": 298,
       "text": [
        "Counter({'2014': 41})"
       ]
      }
     ],
     "prompt_number": 298
    },
    {
     "cell_type": "markdown",
     "metadata": {},
     "source": [
      "# Debug"
     ]
    },
    {
     "cell_type": "code",
     "collapsed": false,
     "input": [
      "from pymongo import mongo_client"
     ],
     "language": "python",
     "metadata": {},
     "outputs": [],
     "prompt_number": 306
    },
    {
     "cell_type": "code",
     "collapsed": false,
     "input": [
      "mc = mongo_client.MongoClient()\n",
      "db = mc.lobbying_federal_domestic"
     ],
     "language": "python",
     "metadata": {},
     "outputs": [],
     "prompt_number": 308
    },
    {
     "cell_type": "code",
     "collapsed": false,
     "input": [
      "db.house_ld2.find_one({\"LOBBYINGDISCLOSURE2.alis.0.lobbyists\": \n",
      "                        {'$elemMatch': \n",
      "                         {'coveredPosition': {'$ne': ''}}}})"
     ],
     "language": "python",
     "metadata": {},
     "outputs": [
      {
       "metadata": {},
       "output_type": "pyout",
       "prompt_number": 311,
       "text": [
        "{u'LOBBYINGDISCLOSURE2': {u'address1': u'4908 Cloister Drive',\n",
        "  u'address2': u'',\n",
        "  u'alis': [{u'federal_agencies': u'U.S. HOUSE OF REPRESENTATIVES, U.S. SENATE, Natl Credit Union Administration (NCUA)',\n",
        "    u'foreign_entity_issues': u'',\n",
        "    u'issueAreaCode': u'FIN',\n",
        "    u'lobbyists': [{u'coveredPosition': u'Director of Public and Congressional Affairs,',\n",
        "      u'lobbyistFirstName': u'John',\n",
        "      u'lobbyistLastName': u'McKechnie',\n",
        "      u'lobbyistNew': u'N',\n",
        "      u'lobbyistSuffix': u''},\n",
        "     {u'coveredPosition': u'National Credit Union Administration',\n",
        "      u'lobbyistFirstName': u'(continued)',\n",
        "      u'lobbyistLastName': u'(continued)',\n",
        "      u'lobbyistNew': u'N',\n",
        "      u'lobbyistSuffix': u''},\n",
        "     {u'coveredPosition': u'',\n",
        "      u'lobbyistFirstName': u'',\n",
        "      u'lobbyistLastName': u'',\n",
        "      u'lobbyistNew': u'N',\n",
        "      u'lobbyistSuffix': u''},\n",
        "     {u'coveredPosition': u'',\n",
        "      u'lobbyistFirstName': u'',\n",
        "      u'lobbyistLastName': u'',\n",
        "      u'lobbyistNew': u'N',\n",
        "      u'lobbyistSuffix': u''},\n",
        "     {u'coveredPosition': u'',\n",
        "      u'lobbyistFirstName': u'',\n",
        "      u'lobbyistLastName': u'',\n",
        "      u'lobbyistNew': u'N',\n",
        "      u'lobbyistSuffix': u''},\n",
        "     {u'coveredPosition': u'',\n",
        "      u'lobbyistFirstName': u'',\n",
        "      u'lobbyistLastName': u'',\n",
        "      u'lobbyistNew': u'N',\n",
        "      u'lobbyistSuffix': u''},\n",
        "     {u'coveredPosition': u'',\n",
        "      u'lobbyistFirstName': u'',\n",
        "      u'lobbyistLastName': u'',\n",
        "      u'lobbyistNew': u'N',\n",
        "      u'lobbyistSuffix': u''},\n",
        "     {u'coveredPosition': u'',\n",
        "      u'lobbyistFirstName': u'',\n",
        "      u'lobbyistLastName': u'',\n",
        "      u'lobbyistNew': u'N',\n",
        "      u'lobbyistSuffix': u''},\n",
        "     {u'coveredPosition': u'',\n",
        "      u'lobbyistFirstName': u'',\n",
        "      u'lobbyistLastName': u'',\n",
        "      u'lobbyistNew': u'N',\n",
        "      u'lobbyistSuffix': u''}],\n",
        "    u'specific_issues': [u'H.R. 688 (Credit Union Small Business Job Creation Act)\\nH.R. 719 (Capital Access for Small Businesses and Jobs Act)\\nCooperative development']},\n",
        "   {u'federal_agencies': u'U.S. HOUSE OF REPRESENTATIVES, U.S. SENATE',\n",
        "    u'foreign_entity_issues': u'',\n",
        "    u'issueAreaCode': u'TAX',\n",
        "    u'lobbyists': [{u'coveredPosition': u'Director of Public and Congressional Affairs,',\n",
        "      u'lobbyistFirstName': u'John',\n",
        "      u'lobbyistLastName': u'McKechnie',\n",
        "      u'lobbyistNew': u'N',\n",
        "      u'lobbyistSuffix': u''},\n",
        "     {u'coveredPosition': u'National Credit Union Administration',\n",
        "      u'lobbyistFirstName': u'(continued)',\n",
        "      u'lobbyistLastName': u'(continued)',\n",
        "      u'lobbyistNew': u'N',\n",
        "      u'lobbyistSuffix': u''},\n",
        "     {u'coveredPosition': u'',\n",
        "      u'lobbyistFirstName': u'',\n",
        "      u'lobbyistLastName': u'',\n",
        "      u'lobbyistNew': u'N',\n",
        "      u'lobbyistSuffix': u''},\n",
        "     {u'coveredPosition': u'',\n",
        "      u'lobbyistFirstName': u'',\n",
        "      u'lobbyistLastName': u'',\n",
        "      u'lobbyistNew': u'N',\n",
        "      u'lobbyistSuffix': u''},\n",
        "     {u'coveredPosition': u'',\n",
        "      u'lobbyistFirstName': u'',\n",
        "      u'lobbyistLastName': u'',\n",
        "      u'lobbyistNew': u'N',\n",
        "      u'lobbyistSuffix': u''},\n",
        "     {u'coveredPosition': u'',\n",
        "      u'lobbyistFirstName': u'',\n",
        "      u'lobbyistLastName': u'',\n",
        "      u'lobbyistNew': u'N',\n",
        "      u'lobbyistSuffix': u''},\n",
        "     {u'coveredPosition': u'',\n",
        "      u'lobbyistFirstName': u'',\n",
        "      u'lobbyistLastName': u'',\n",
        "      u'lobbyistNew': u'N',\n",
        "      u'lobbyistSuffix': u''},\n",
        "     {u'coveredPosition': u'',\n",
        "      u'lobbyistFirstName': u'',\n",
        "      u'lobbyistLastName': u'',\n",
        "      u'lobbyistNew': u'N',\n",
        "      u'lobbyistSuffix': u''},\n",
        "     {u'coveredPosition': u'',\n",
        "      u'lobbyistFirstName': u'',\n",
        "      u'lobbyistLastName': u'',\n",
        "      u'lobbyistNew': u'N',\n",
        "      u'lobbyistSuffix': u''}],\n",
        "    u'specific_issues': [u'Cooperative taxation, cooperative development']},\n",
        "   {u'federal_agencies': u'U.S. HOUSE OF REPRESENTATIVES, U.S. SENATE, Agriculture - Dept of  (USDA)',\n",
        "    u'foreign_entity_issues': u'',\n",
        "    u'issueAreaCode': u'AGR',\n",
        "    u'lobbyists': [{u'coveredPosition': u'Director of Public and Congressional Affairs,',\n",
        "      u'lobbyistFirstName': u'John',\n",
        "      u'lobbyistLastName': u'McKechnie',\n",
        "      u'lobbyistNew': u'N',\n",
        "      u'lobbyistSuffix': u''},\n",
        "     {u'coveredPosition': u'National Credit Union Administration',\n",
        "      u'lobbyistFirstName': u'(continued)',\n",
        "      u'lobbyistLastName': u'(continued)',\n",
        "      u'lobbyistNew': u'N',\n",
        "      u'lobbyistSuffix': u''},\n",
        "     {u'coveredPosition': u'',\n",
        "      u'lobbyistFirstName': u'',\n",
        "      u'lobbyistLastName': u'',\n",
        "      u'lobbyistNew': u'N',\n",
        "      u'lobbyistSuffix': u''},\n",
        "     {u'coveredPosition': u'',\n",
        "      u'lobbyistFirstName': u'',\n",
        "      u'lobbyistLastName': u'',\n",
        "      u'lobbyistNew': u'N',\n",
        "      u'lobbyistSuffix': u''},\n",
        "     {u'coveredPosition': u'',\n",
        "      u'lobbyistFirstName': u'',\n",
        "      u'lobbyistLastName': u'',\n",
        "      u'lobbyistNew': u'N',\n",
        "      u'lobbyistSuffix': u''},\n",
        "     {u'coveredPosition': u'',\n",
        "      u'lobbyistFirstName': u'',\n",
        "      u'lobbyistLastName': u'',\n",
        "      u'lobbyistNew': u'N',\n",
        "      u'lobbyistSuffix': u''},\n",
        "     {u'coveredPosition': u'',\n",
        "      u'lobbyistFirstName': u'',\n",
        "      u'lobbyistLastName': u'',\n",
        "      u'lobbyistNew': u'N',\n",
        "      u'lobbyistSuffix': u''},\n",
        "     {u'coveredPosition': u'',\n",
        "      u'lobbyistFirstName': u'',\n",
        "      u'lobbyistLastName': u'',\n",
        "      u'lobbyistNew': u'N',\n",
        "      u'lobbyistSuffix': u''},\n",
        "     {u'coveredPosition': u'',\n",
        "      u'lobbyistFirstName': u'',\n",
        "      u'lobbyistLastName': u'',\n",
        "      u'lobbyistNew': u'N',\n",
        "      u'lobbyistSuffix': u''}],\n",
        "    u'specific_issues': [u'Agricultural market policies, cooperative development']},\n",
        "   {u'federal_agencies': u'U.S. HOUSE OF REPRESENTATIVES, U.S. SENATE',\n",
        "    u'foreign_entity_issues': u'',\n",
        "    u'issueAreaCode': u'ENG',\n",
        "    u'lobbyists': [{u'coveredPosition': u'Director of Public and Congressional Affairs,',\n",
        "      u'lobbyistFirstName': u'John',\n",
        "      u'lobbyistLastName': u'McKechnie',\n",
        "      u'lobbyistNew': u'N',\n",
        "      u'lobbyistSuffix': u''},\n",
        "     {u'coveredPosition': u'National Credit Union Administration',\n",
        "      u'lobbyistFirstName': u'(continued)',\n",
        "      u'lobbyistLastName': u'(continued)',\n",
        "      u'lobbyistNew': u'N',\n",
        "      u'lobbyistSuffix': u''},\n",
        "     {u'coveredPosition': u'',\n",
        "      u'lobbyistFirstName': u'',\n",
        "      u'lobbyistLastName': u'',\n",
        "      u'lobbyistNew': u'N',\n",
        "      u'lobbyistSuffix': u''},\n",
        "     {u'coveredPosition': u'',\n",
        "      u'lobbyistFirstName': u'',\n",
        "      u'lobbyistLastName': u'',\n",
        "      u'lobbyistNew': u'N',\n",
        "      u'lobbyistSuffix': u''},\n",
        "     {u'coveredPosition': u'',\n",
        "      u'lobbyistFirstName': u'',\n",
        "      u'lobbyistLastName': u'',\n",
        "      u'lobbyistNew': u'N',\n",
        "      u'lobbyistSuffix': u''},\n",
        "     {u'coveredPosition': u'',\n",
        "      u'lobbyistFirstName': u'',\n",
        "      u'lobbyistLastName': u'',\n",
        "      u'lobbyistNew': u'N',\n",
        "      u'lobbyistSuffix': u''},\n",
        "     {u'coveredPosition': u'',\n",
        "      u'lobbyistFirstName': u'',\n",
        "      u'lobbyistLastName': u'',\n",
        "      u'lobbyistNew': u'N',\n",
        "      u'lobbyistSuffix': u''},\n",
        "     {u'coveredPosition': u'',\n",
        "      u'lobbyistFirstName': u'',\n",
        "      u'lobbyistLastName': u'',\n",
        "      u'lobbyistNew': u'N',\n",
        "      u'lobbyistSuffix': u''},\n",
        "     {u'coveredPosition': u'',\n",
        "      u'lobbyistFirstName': u'',\n",
        "      u'lobbyistLastName': u'',\n",
        "      u'lobbyistNew': u'N',\n",
        "      u'lobbyistSuffix': u''}],\n",
        "    u'specific_issues': [u'Electric power generation, cooperative development']}],\n",
        "  u'city': u'North Bethesda',\n",
        "  u'clientGovtEntity': u'N',\n",
        "  u'clientName': u'National Cooperative Business Association',\n",
        "  u'country': u'USA',\n",
        "  u'expenses': u'',\n",
        "  u'expensesMethod': u'',\n",
        "  u'firstName': u'',\n",
        "  u'houseID': u'416800008',\n",
        "  u'imported': u'N',\n",
        "  u'income': u'',\n",
        "  u'lastName': u'',\n",
        "  u'noLobbying': u'',\n",
        "  u'organizationName': u'John McKechnie LLC',\n",
        "  u'pages': u'5',\n",
        "  u'prefix': u'',\n",
        "  u'principal_city': u'',\n",
        "  u'principal_country': u'',\n",
        "  u'principal_state': u'',\n",
        "  u'principal_zip': u'',\n",
        "  u'principal_zipext': u'',\n",
        "  u'printedName': u'Mr. John McKechnie, Owner',\n",
        "  u'registrantDifferentAddress': u'N',\n",
        "  u'reportType': u'Q4',\n",
        "  u'reportYear': u'2013',\n",
        "  u'selfSelect': u'',\n",
        "  u'senateID': u'400751249-90',\n",
        "  u'signedDate': u'01/21/2014',\n",
        "  u'state': u'MD',\n",
        "  u'submitURL': u'',\n",
        "  u'terminationDate': u'',\n",
        "  u'updates': {u'affiliatedOrgs': [{u'affiliatedOrgAddress': u'',\n",
        "     u'affiliatedOrgCity': u'',\n",
        "     u'affiliatedOrgCountry': u'',\n",
        "     u'affiliatedOrgName': u'',\n",
        "     u'affiliatedOrgState': u'',\n",
        "     u'affiliatedOrgZip': u'',\n",
        "     u'affiliatedPrinOrgCity': u'',\n",
        "     u'affiliatedPrinOrgCountry': u'',\n",
        "     u'affiliatedPrinOrgState': u''},\n",
        "    {u'affiliatedOrgAddress': u'',\n",
        "     u'affiliatedOrgCity': u'',\n",
        "     u'affiliatedOrgCountry': u'',\n",
        "     u'affiliatedOrgName': u'',\n",
        "     u'affiliatedOrgState': u'',\n",
        "     u'affiliatedOrgZip': u'',\n",
        "     u'affiliatedPrinOrgCity': u'',\n",
        "     u'affiliatedPrinOrgCountry': u'',\n",
        "     u'affiliatedPrinOrgState': u''}],\n",
        "   u'affiliatedUrl': u'',\n",
        "   u'clientAddress': u'',\n",
        "   u'clientCity': u'',\n",
        "   u'clientCountry': u'',\n",
        "   u'clientState': u'',\n",
        "   u'clientZip': u'',\n",
        "   u'clientZipext': u'',\n",
        "   u'foreignEntities': [{u'address': u'',\n",
        "     u'city': u'',\n",
        "     u'contribution': u'',\n",
        "     u'country': u'',\n",
        "     u'name': u'',\n",
        "     u'ownership_Percentage': u'',\n",
        "     u'prinCity': u'',\n",
        "     u'prinCountry': u'',\n",
        "     u'prinState': u'',\n",
        "     u'state': u''}],\n",
        "   u'generalDescription': u'',\n",
        "   u'inactiveOrgs': [u'', u'', u''],\n",
        "   u'inactive_ALIs': [u'', u'', u'', u'', u'', u'', u'', u'', u''],\n",
        "   u'inactive_ForeignEntities': [u'', u'', u'', u'', u'', u''],\n",
        "   u'inactive_lobbyists': [{u'firstName': u'',\n",
        "     u'lastName': u'',\n",
        "     u'suffix': u''},\n",
        "    {u'firstName': u'', u'lastName': u'', u'suffix': u''},\n",
        "    {u'firstName': u'', u'lastName': u'', u'suffix': u''},\n",
        "    {u'firstName': u'', u'lastName': u'', u'suffix': u''}],\n",
        "   u'prinClientCity': u'',\n",
        "   u'prinClientCountry': u'',\n",
        "   u'prinClientState': u'',\n",
        "   u'prinClientZip': u'',\n",
        "   u'prinClientZipext': u''},\n",
        "  u'zip': u'20852',\n",
        "  u'zipext': u''},\n",
        " u'_id': ObjectId('537a43ff6e95522a2a96f904'),\n",
        " u'doc_id': u'300624537'}"
       ]
      }
     ],
     "prompt_number": 311
    },
    {
     "cell_type": "code",
     "collapsed": false,
     "input": [
      "floc_template = '/home/blannon/dev/influence-usa/lobbying-federal-domestic/data/cache/sopr_html/{year}/{subyear}/{id}.html'\n",
      "floc = floc_template.format(year=2014,\n",
      "                            subyear='Q1',\n",
      "                            id='33eb46ef-55a7-4233-8685-f7427c057f41')"
     ],
     "language": "python",
     "metadata": {},
     "outputs": [],
     "prompt_number": 299
    },
    {
     "cell_type": "code",
     "collapsed": false,
     "input": [
      "dbg = etree.parse(open(floc), parser=html_parser)"
     ],
     "language": "python",
     "metadata": {},
     "outputs": [],
     "prompt_number": 300
    },
    {
     "cell_type": "code",
     "collapsed": false,
     "input": [
      "etree.tostring(e.xpath('//p[contains(., \"15. General issue area\")]'\n",
      "                       '/following-sibling::p[1]')[0])\n",
      "                       #'/tbody/tr[position() > 1]'\n",
      "                       #'/td')[0])"
     ],
     "language": "python",
     "metadata": {},
     "outputs": [
      {
       "metadata": {},
       "output_type": "pyout",
       "prompt_number": 301,
       "text": [
        "'<p>16. Specific lobbying issues</p>\\n'"
       ]
      }
     ],
     "prompt_number": 301
    },
    {
     "cell_type": "code",
     "collapsed": false,
     "input": [
      "#from tasks import extract\n",
      "#from tasks import schema\n",
      "reload(extract)\n",
      "reload(schema)\n",
      "\n",
      "ld2_containers = filter(lambda x: 'children' in x, schema.ld2_schema)\n",
      "ld2_elements = filter(lambda x: 'children' not in x, schema.ld2_schema)"
     ],
     "language": "python",
     "metadata": {},
     "outputs": [],
     "prompt_number": 302
    },
    {
     "cell_type": "code",
     "collapsed": false,
     "input": [
      "ld2_containers[:3]"
     ],
     "language": "python",
     "metadata": {},
     "outputs": [
      {
       "metadata": {},
       "output_type": "pyout",
       "prompt_number": 303,
       "text": [
        "[{'children': [{'field': 'general_issue_area',\n",
        "    'lda_question': '15',\n",
        "    'parser': <function tasks.schema.split_keep_rightmost>,\n",
        "    'path': '.',\n",
        "    'section': 'lobbying_activities'},\n",
        "   {'field': 'specific_issues',\n",
        "    'lda_question': '16',\n",
        "    'parser': <function tasks.schema.clean_text>,\n",
        "    'path': 'following-sibling::p[2]',\n",
        "    'section': 'lobbying_activities'},\n",
        "   {'field': 'houses_and_agencies_none',\n",
        "    'lda_question': '17',\n",
        "    'parser': <function tasks.schema.checkbox_boolean>,\n",
        "    'path': 'following-sibling::p[3]/span/input',\n",
        "    'section': 'lobbying_activities'},\n",
        "   {'field': 'houses_and_agencies',\n",
        "    'lda_question': '17',\n",
        "    'parser': <function tasks.schema.clean_text>,\n",
        "    'path': 'following-sibling::p[4]',\n",
        "    'section': 'lobbying_activities'},\n",
        "   {'children': [{'field': 'lobbyist_first_name',\n",
        "      'lda_question': '18',\n",
        "      'parser': <function tasks.schema.clean_text>,\n",
        "      'path': 'td[1]/div',\n",
        "      'section': 'lobbying_activities'},\n",
        "     {'field': 'lobbyist_last_name',\n",
        "      'lda_question': '18',\n",
        "      'parser': <function tasks.schema.clean_text>,\n",
        "      'path': 'td[2]/div',\n",
        "      'section': 'lobbying_activities'},\n",
        "     {'field': 'lobbyist_suffix',\n",
        "      'lda_question': '18',\n",
        "      'parser': <function tasks.schema.clean_text>,\n",
        "      'path': 'td[3]/div',\n",
        "      'section': 'lobbying_activities'},\n",
        "     {'field': 'lobbyist_covered_position',\n",
        "      'lda_question': '18',\n",
        "      'parser': <function tasks.schema.clean_text>,\n",
        "      'path': 'td[4]/div',\n",
        "      'section': 'lobbying_activities'},\n",
        "     {'field': 'lobbyist_is_new',\n",
        "      'lda_question': '18',\n",
        "      'parser': <function tasks.schema.checkbox_boolean>,\n",
        "      'path': 'td[5]/input',\n",
        "      'section': 'lobbying_activities'}],\n",
        "    'field': 'lobbyists',\n",
        "    'lda_question': '18',\n",
        "    'parser': <function tasks.schema.parse_array>,\n",
        "    'path': 'following-sibling::table[1]/tbody/tr[position() > 1]',\n",
        "    'section': 'lobbying_activities'},\n",
        "   {'field': 'foreign_entity_interest_none',\n",
        "    'lda_question': '19',\n",
        "    'parser': <function tasks.schema.checkbox_boolean>,\n",
        "    'path': 'following-sibling::p[6]/span/input',\n",
        "    'section': 'lobbying_activities'},\n",
        "   {'field': 'foreign_entity_interest',\n",
        "    'lda_question': '19',\n",
        "    'parser': <function tasks.schema.clean_text>,\n",
        "    'path': 'following-sibling::p[7]',\n",
        "    'section': 'lobbying_activities'}],\n",
        "  'field': 'lobbying_activities',\n",
        "  'lda_question': None,\n",
        "  'parser': <function tasks.schema.parse_array>,\n",
        "  'path': '//p[contains(.,\"15. General issue area\")]',\n",
        "  'section': 'lobbying_activities'},\n",
        " {'children': [{'field': 'removed_lobbyist_first_name',\n",
        "    'lda_question': 23,\n",
        "    'parser': <function tasks.schema.clean_text>,\n",
        "    'path': 'td[1]/div',\n",
        "    'section': 'registration_update'},\n",
        "   {'field': 'removed_lobbyist_last_name',\n",
        "    'lda_question': 23,\n",
        "    'parser': <function tasks.schema.clean_text>,\n",
        "    'path': 'td[2]/div',\n",
        "    'section': 'registration_update'},\n",
        "   {'field': 'removed_lobbyist_last_name',\n",
        "    'lda_question': 23,\n",
        "    'parser': <function tasks.schema.clean_text>,\n",
        "    'path': 'td[3]/div',\n",
        "    'section': 'registration_update'}],\n",
        "  'field': 'removed_lobbyists',\n",
        "  'lda_question': 23,\n",
        "  'parser': <function tasks.schema.parse_array>,\n",
        "  'path': '//p[contains(.,\"23. Name of each previously\")]/following-sibling::table[1]/tbody/tr[position()>1]/td/table/tbody',\n",
        "  'section': 'registration_update'},\n",
        " {'children': [{'field': 'issue_code',\n",
        "    'lda_question': '24',\n",
        "    'parser': <function tasks.schema.clean_text>,\n",
        "    'path': '.',\n",
        "    'section': 'lobbying_issues'}],\n",
        "  'field': 'removed_lobbying_issues',\n",
        "  'lda_question': 24,\n",
        "  'parser': <function tasks.schema.parse_array>,\n",
        "  'path': '//p[contains(.,\"24. General lobbying issue\")]/following-sibling::table[1]/tbody/tr/td/div',\n",
        "  'section': 'registration_update'}]"
       ]
      }
     ],
     "prompt_number": 303
    },
    {
     "cell_type": "code",
     "collapsed": false,
     "input": [
      "extract.extract_html(floc, ld2_elements, ld2_containers)"
     ],
     "language": "python",
     "metadata": {},
     "outputs": [
      {
       "output_type": "stream",
       "stream": "stdout",
       "text": [
        "03/31/2014\n",
        "06/30/2014\n",
        "{\n",
        "  \"lobbying_activities\": {\n",
        "    \"lobbying_activities\": [\n",
        "      {\n",
        "        \"general_issue_area\": \"HCR\", \n",
        "        \"houses_and_agencies_none\": false, \n",
        "        \"specific_issues\": \"Implementation of PL 111-148, The Patient Protection and Affordable Care Act and the economic impact of budget cuts to biopharmaceuticals.\", \n",
        "        \"houses_and_agencies\": \"U.S. SENATE, U.S. HOUSE OF REPRESENTATIVES\", \n",
        "        \"foreign_entity_interest\": \"\", \n",
        "        \"lobbyists\": [\n",
        "          {\n",
        "            \"lobbyist_covered_position\": \"\", \n",
        "            \"lobbyist_is_new\": false, \n",
        "            \"lobbyist_first_name\": \"Sara\", \n",
        "            \"lobbyist_last_name\": \"Froelich\", \n",
        "            \"lobbyist_suffix\": \"\"\n",
        "          }\n",
        "        ], \n",
        "        \"foreign_entity_interest_none\": true\n",
        "      }\n",
        "    ]\n",
        "  }, \n",
        "  \"identifiers\": {\n",
        "    \"client_registrant_house_id\": null, \n",
        "    \"client_registrant_senate_id\": null\n",
        "  }, \n",
        "  \"expenses\": {\n",
        "    \"expense_amount\": null, \n",
        "    \"expense_method_a\": false, \n",
        "    \"expense_method_c\": false, \n",
        "    \"expense_method_b\": false, \n",
        "    \"expense_less_than_five_thousand\": false, \n",
        "    \"expense_five_thousand_or_more\": false\n",
        "  }, \n",
        "  \"registration_update\": {\n",
        "    \"client_new_ppb_city\": \"\", \n",
        "    \"client_new_ppb_zip\": \"\", \n",
        "    \"added_foreign_entities\": [], \n",
        "    \"added_affiliated_organizations\": [], \n",
        "    \"client_new_zip\": \"\", \n",
        "    \"client_new_city\": \"\", \n",
        "    \"client_new_ppb_country\": \"\", \n",
        "    \"client_new_general_description\": \"\", \n",
        "    \"removed_lobbyists\": [], \n",
        "    \"removed_lobbying_issues\": [], \n",
        "    \"client_new_address\": \"\", \n",
        "    \"client_new_country\": \"\", \n",
        "    \"client_new_state\": \"\", \n",
        "    \"removed_affiliated_organizations\": [], \n",
        "    \"client_new_ppb_state\": \"\"\n",
        "  }, \n",
        "  \"client\": {\n",
        "    \"client_name\": null, \n",
        "    \"client_self\": null, \n",
        "    \"client_state_or_local_government\": null\n",
        "  }, \n",
        "  \"income\": {\n",
        "    \"income_less_than_five_thousand\": true, \n",
        "    \"income_amount\": null, \n",
        "    \"income_five_thousand_or_more\": false\n",
        "  }, \n",
        "  \"report\": {\n",
        "    \"report_quarter_one\": true, \n",
        "    \"report_quarter_four\": false, \n",
        "    \"report_no_activity\": false, \n",
        "    \"report_year\": \"2014\", \n",
        "    \"report_quarter_two\": false, \n",
        "    \"report_termination_date\": \"2014-03-31T00:00:00\", \n",
        "    \"report_quarter_three\": false, \n",
        "    \"report_is_amendment\": true, \n",
        "    \"report_is_termination\": true\n",
        "  }, \n",
        "  \"signature\": {\n",
        "    \"signature_date\": \"2014-06-30T00:00:00\", \n",
        "    \"signature\": \"Digitally Signed By: Sara Froelich\"\n",
        "  }, \n",
        "  \"registrant\": {\n",
        "    \"registrant_name\": \"TKG Federal Affairs\", \n",
        "    \"registrant_zip\": null, \n",
        "    \"registrant_contact_email\": null, \n",
        "    \"registrant_address_one\": null, \n",
        "    \"self_employed_individual\": false, \n",
        "    \"registrant_ppb_city\": null, \n",
        "    \"registrant_ppb_zip\": null, \n",
        "    \"registrant_city\": null, \n",
        "    \"registrant_contact_name\": null, \n",
        "    \"registrant_state\": null, \n",
        "    \"registrant_ppb_state\": null, \n",
        "    \"registrant_contact_phone\": null, \n",
        "    \"registrant_country\": null, \n",
        "    \"registrant_address_two\": null, \n",
        "    \"organization_lobbying_firm\": true, \n",
        "    \"registrant_contact_name_prefix\": null\n",
        "  }, \n",
        "  \"document_id\": \"33eb46ef-55a7-4233-8685-f7427c057f41\"\n",
        "}\n"
       ]
      }
     ],
     "prompt_number": 304
    },
    {
     "cell_type": "code",
     "collapsed": false,
     "input": [
      "2385.88 - 1153"
     ],
     "language": "python",
     "metadata": {},
     "outputs": [
      {
       "metadata": {},
       "output_type": "pyout",
       "prompt_number": 305,
       "text": [
        "1232.88"
       ]
      }
     ],
     "prompt_number": 305
    },
    {
     "cell_type": "code",
     "collapsed": false,
     "input": [],
     "language": "python",
     "metadata": {},
     "outputs": [],
     "prompt_number": 305
    }
   ],
   "metadata": {}
  }
 ]
}