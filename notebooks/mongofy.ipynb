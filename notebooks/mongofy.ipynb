{
 "metadata": {
  "name": "",
  "signature": "sha256:a6cb77cf246e7acbc0211cb1f66848946ec9d9d83a427b6a6b62773c6b275ccd"
 },
 "nbformat": 3,
 "nbformat_minor": 0,
 "worksheets": [
  {
   "cells": [
    {
     "cell_type": "code",
     "collapsed": false,
     "input": [
      "import sys\n",
      "import os\n",
      "import re\n",
      "from glob import glob\n",
      "import pprint\n",
      "import json\n",
      "\n",
      "PROJ_DIR = os.pardir\n",
      "sys.path.append(os.path.abspath(PROJ_DIR))\n",
      "\n",
      "import settings"
     ],
     "language": "python",
     "metadata": {},
     "outputs": [],
     "prompt_number": 12
    },
    {
     "cell_type": "code",
     "collapsed": false,
     "input": [
      "import pymongo"
     ],
     "language": "python",
     "metadata": {},
     "outputs": [],
     "prompt_number": 5
    },
    {
     "cell_type": "code",
     "collapsed": false,
     "input": [
      "mc = pymongo.MongoClient()"
     ],
     "language": "python",
     "metadata": {},
     "outputs": [],
     "prompt_number": 6
    },
    {
     "cell_type": "code",
     "collapsed": false,
     "input": [
      "mc.database_names()"
     ],
     "language": "python",
     "metadata": {},
     "outputs": [
      {
       "metadata": {},
       "output_type": "pyout",
       "prompt_number": 7,
       "text": [
        "[u'local', u'lobbying_federal_domestic', u'admin']"
       ]
      }
     ],
     "prompt_number": 7
    },
    {
     "cell_type": "code",
     "collapsed": false,
     "input": [
      "db = mc.lobbying_federal_domestic"
     ],
     "language": "python",
     "metadata": {},
     "outputs": [],
     "prompt_number": 8
    },
    {
     "cell_type": "code",
     "collapsed": false,
     "input": [
      "house_ld1 = db['house_ld1']\n",
      "house_ld2 = db['house_ld2']"
     ],
     "language": "python",
     "metadata": {},
     "outputs": [],
     "prompt_number": 18
    },
    {
     "cell_type": "code",
     "collapsed": false,
     "input": [
      "ld1_fnames = glob(os.path.join(settings.TRANS_DIR,'house_xml','LD1','*','*','*.json'))"
     ],
     "language": "python",
     "metadata": {},
     "outputs": [],
     "prompt_number": 10
    },
    {
     "cell_type": "code",
     "collapsed": false,
     "input": [
      "len(ld1_fnames)"
     ],
     "language": "python",
     "metadata": {},
     "outputs": [
      {
       "metadata": {},
       "output_type": "pyout",
       "prompt_number": 11,
       "text": [
        "55680"
       ]
      }
     ],
     "prompt_number": 11
    },
    {
     "cell_type": "code",
     "collapsed": false,
     "input": [],
     "language": "python",
     "metadata": {},
     "outputs": [
      {
       "metadata": {},
       "output_type": "pyout",
       "prompt_number": 21,
       "text": [
        "('100025384', '.json')"
       ]
      }
     ],
     "prompt_number": 21
    },
    {
     "cell_type": "code",
     "collapsed": false,
     "input": [
      "for fname in ld1_fnames:\n",
      "    try:\n",
      "        jd = json.load(open(fname))\n",
      "        doc_id = os.path.splitext(os.path.basename(fname))[0]\n",
      "        jd['doc_id'] = doc_id\n",
      "        house_ld1.insert(jd)\n",
      "    except Exception as e:\n",
      "        sys.stderr.write(str(e))\n",
      "        sys.stderr.write('\\n')\n",
      "        sys.stderr.write(fname)\n",
      "        sys.stderr.write('\\n')"
     ],
     "language": "python",
     "metadata": {},
     "outputs": [
      {
       "output_type": "stream",
       "stream": "stderr",
       "text": [
        "key '{http://www.PureEdge.com/XFDL/Custom}LOBBYINGDISCLOSURE1' must not contain '.'\n",
        "/home/blannon/dev/influence-usa/lobbying-federal-domestic/data/transformed/house_xml/LD1/2008/ALL/300005211.json\n",
        "key '{http://www.PureEdge.com/XFDL/Custom}LOBBYINGDISCLOSURE1' must not contain '.'"
       ]
      },
      {
       "output_type": "stream",
       "stream": "stderr",
       "text": [
        "\n",
        "/home/blannon/dev/influence-usa/lobbying-federal-domestic/data/transformed/house_xml/LD1/2008/ALL/300030440.json\n",
        "key '{http://www.PureEdge.com/XFDL/Custom}LOBBYINGDISCLOSURE1' must not contain '.'"
       ]
      },
      {
       "output_type": "stream",
       "stream": "stderr",
       "text": [
        "\n",
        "/home/blannon/dev/influence-usa/lobbying-federal-domestic/data/transformed/house_xml/LD1/2008/ALL/300024371.json\n",
        "key '{http://www.PureEdge.com/XFDL/Custom}LOBBYINGDISCLOSURE1' must not contain '.'"
       ]
      },
      {
       "output_type": "stream",
       "stream": "stderr",
       "text": [
        "\n",
        "/home/blannon/dev/influence-usa/lobbying-federal-domestic/data/transformed/house_xml/LD1/2008/ALL/300003191.json\n",
        "key '{http://www.PureEdge.com/XFDL/Custom}LOBBYINGDISCLOSURE1' must not contain '.'"
       ]
      },
      {
       "output_type": "stream",
       "stream": "stderr",
       "text": [
        "\n",
        "/home/blannon/dev/influence-usa/lobbying-federal-domestic/data/transformed/house_xml/LD1/2008/ALL/300008521.json\n",
        "key '{http://www.PureEdge.com/XFDL/Custom}LOBBYINGDISCLOSURE1' must not contain '.'"
       ]
      },
      {
       "output_type": "stream",
       "stream": "stderr",
       "text": [
        "\n",
        "/home/blannon/dev/influence-usa/lobbying-federal-domestic/data/transformed/house_xml/LD1/2008/ALL/300024273.json\n",
        "key '{http://www.PureEdge.com/XFDL/Custom}LOBBYINGDISCLOSURE1' must not contain '.'"
       ]
      },
      {
       "output_type": "stream",
       "stream": "stderr",
       "text": [
        "\n",
        "/home/blannon/dev/influence-usa/lobbying-federal-domestic/data/transformed/house_xml/LD1/2008/ALL/300012788.json\n",
        "key '{http://www.PureEdge.com/XFDL/Custom}LOBBYINGDISCLOSURE1' must not contain '.'"
       ]
      },
      {
       "output_type": "stream",
       "stream": "stderr",
       "text": [
        "\n",
        "/home/blannon/dev/influence-usa/lobbying-federal-domestic/data/transformed/house_xml/LD1/2007/ALL/40002552.json\n",
        "key '{http://www.PureEdge.com/XFDL/Custom}LOBBYINGDISCLOSURE1' must not contain '.'"
       ]
      },
      {
       "output_type": "stream",
       "stream": "stderr",
       "text": [
        "\n",
        "/home/blannon/dev/influence-usa/lobbying-federal-domestic/data/transformed/house_xml/LD1/2007/ALL/40002581.json\n",
        "key '{http://www.PureEdge.com/XFDL/Custom}LOBBYINGDISCLOSURE1' must not contain '.'"
       ]
      },
      {
       "output_type": "stream",
       "stream": "stderr",
       "text": [
        "\n",
        "/home/blannon/dev/influence-usa/lobbying-federal-domestic/data/transformed/house_xml/LD1/2007/ALL/40002549.json\n",
        "key '{http://www.PureEdge.com/XFDL/Custom}LOBBYINGDISCLOSURE1' must not contain '.'"
       ]
      },
      {
       "output_type": "stream",
       "stream": "stderr",
       "text": [
        "\n",
        "/home/blannon/dev/influence-usa/lobbying-federal-domestic/data/transformed/house_xml/LD1/2007/ALL/40002562.json\n",
        "key '{http://www.PureEdge.com/XFDL/Custom}LOBBYINGDISCLOSURE1' must not contain '.'"
       ]
      },
      {
       "output_type": "stream",
       "stream": "stderr",
       "text": [
        "\n",
        "/home/blannon/dev/influence-usa/lobbying-federal-domestic/data/transformed/house_xml/LD1/2007/ALL/40002556.json\n",
        "key '{http://www.PureEdge.com/XFDL/Custom}LOBBYINGDISCLOSURE1' must not contain '.'\n",
        "/home/blannon/dev/influence-usa/lobbying-federal-domestic/data/transformed/house_xml/LD1/2007/ALL/40002554.json\n",
        "key '{http://www.PureEdge.com/XFDL/Custom}LOBBYINGDISCLOSURE1' must not contain '.'"
       ]
      },
      {
       "output_type": "stream",
       "stream": "stderr",
       "text": [
        "\n",
        "/home/blannon/dev/influence-usa/lobbying-federal-domestic/data/transformed/house_xml/LD1/2007/ALL/40002553.json\n",
        "key '{http://www.PureEdge.com/XFDL/Custom}LOBBYINGDISCLOSURE1' must not contain '.'"
       ]
      },
      {
       "output_type": "stream",
       "stream": "stderr",
       "text": [
        "\n",
        "/home/blannon/dev/influence-usa/lobbying-federal-domestic/data/transformed/house_xml/LD1/2007/ALL/40001178.json\n",
        "key '{http://www.PureEdge.com/XFDL/Custom}LOBBYINGDISCLOSURE1' must not contain '.'"
       ]
      },
      {
       "output_type": "stream",
       "stream": "stderr",
       "text": [
        "\n",
        "/home/blannon/dev/influence-usa/lobbying-federal-domestic/data/transformed/house_xml/LD1/2007/ALL/40002573.json\n",
        "key '{http://www.PureEdge.com/XFDL/Custom}LOBBYINGDISCLOSURE1' must not contain '.'\n",
        "/home/blannon/dev/influence-usa/lobbying-federal-domestic/data/transformed/house_xml/LD1/2007/ALL/40002551.json\n",
        "key '{http://www.PureEdge.com/XFDL/Custom}LOBBYINGDISCLOSURE1' must not contain '.'"
       ]
      },
      {
       "output_type": "stream",
       "stream": "stderr",
       "text": [
        "\n",
        "/home/blannon/dev/influence-usa/lobbying-federal-domestic/data/transformed/house_xml/LD1/2007/ALL/40002560.json\n",
        "key '{http://www.PureEdge.com/XFDL/Custom}LOBBYINGDISCLOSURE1' must not contain '.'"
       ]
      },
      {
       "output_type": "stream",
       "stream": "stderr",
       "text": [
        "\n",
        "/home/blannon/dev/influence-usa/lobbying-federal-domestic/data/transformed/house_xml/LD1/2007/ALL/40002558.json\n",
        "key '{http://www.PureEdge.com/XFDL/Custom}LOBBYINGDISCLOSURE1' must not contain '.'"
       ]
      },
      {
       "output_type": "stream",
       "stream": "stderr",
       "text": [
        "\n",
        "/home/blannon/dev/influence-usa/lobbying-federal-domestic/data/transformed/house_xml/LD1/2007/ALL/40002550.json\n",
        "key '{http://www.PureEdge.com/XFDL/Custom}LOBBYINGDISCLOSURE1' must not contain '.'\n",
        "/home/blannon/dev/influence-usa/lobbying-federal-domestic/data/transformed/house_xml/LD1/2007/ALL/40001177.json\n",
        "key '{http://www.PureEdge.com/XFDL/Custom}LOBBYINGDISCLOSURE1' must not contain '.'"
       ]
      },
      {
       "output_type": "stream",
       "stream": "stderr",
       "text": [
        "\n",
        "/home/blannon/dev/influence-usa/lobbying-federal-domestic/data/transformed/house_xml/LD1/2007/ALL/40001188.json\n",
        "key '{http://www.PureEdge.com/XFDL/Custom}LOBBYINGDISCLOSURE1' must not contain '.'"
       ]
      },
      {
       "output_type": "stream",
       "stream": "stderr",
       "text": [
        "\n",
        "/home/blannon/dev/influence-usa/lobbying-federal-domestic/data/transformed/house_xml/LD1/2004/ALL/8078824.json\n",
        "key '{http://www.PureEdge.com/XFDL/Custom}LOBBYINGDISCLOSURE1' must not contain '.'"
       ]
      },
      {
       "output_type": "stream",
       "stream": "stderr",
       "text": [
        "\n",
        "/home/blannon/dev/influence-usa/lobbying-federal-domestic/data/transformed/house_xml/LD1/2004/ALL/8062539.json\n",
        "key '{http://www.PureEdge.com/XFDL/Custom}LOBBYINGDISCLOSURE1' must not contain '.'"
       ]
      },
      {
       "output_type": "stream",
       "stream": "stderr",
       "text": [
        "\n",
        "/home/blannon/dev/influence-usa/lobbying-federal-domestic/data/transformed/house_xml/LD1/2004/ALL/8049255.json\n",
        "key '{http://www.PureEdge.com/XFDL/Custom}LOBBYINGDISCLOSURE1' must not contain '.'"
       ]
      },
      {
       "output_type": "stream",
       "stream": "stderr",
       "text": [
        "\n",
        "/home/blannon/dev/influence-usa/lobbying-federal-domestic/data/transformed/house_xml/LD1/2005/ALL/100001681.json\n",
        "key '{http://www.PureEdge.com/XFDL/Custom}LOBBYINGDISCLOSURE1' must not contain '.'"
       ]
      },
      {
       "output_type": "stream",
       "stream": "stderr",
       "text": [
        "\n",
        "/home/blannon/dev/influence-usa/lobbying-federal-domestic/data/transformed/house_xml/LD1/2006/ALL/8131437.json\n"
       ]
      }
     ],
     "prompt_number": 22
    },
    {
     "cell_type": "code",
     "collapsed": false,
     "input": [],
     "language": "python",
     "metadata": {},
     "outputs": []
    },
    {
     "cell_type": "code",
     "collapsed": false,
     "input": [
      "ld2_fnames = glob(os.path.join(settings.TRANS_DIR,'house_xml','LD2','*','*','*.json'))"
     ],
     "language": "python",
     "metadata": {},
     "outputs": [],
     "prompt_number": 23
    },
    {
     "cell_type": "code",
     "collapsed": false,
     "input": [
      "for fname in ld2_fnames:\n",
      "    try:\n",
      "        jd = json.load(open(fname))\n",
      "        doc_id = os.path.splitext(os.path.basename(fname))[0]\n",
      "        jd['doc_id'] = doc_id\n",
      "        house_ld2.insert(jd)\n",
      "    except Exception as e:\n",
      "        sys.stderr.write(str(e))\n",
      "        sys.stderr.write('\\n')\n",
      "        sys.stderr.write(fname)\n",
      "        sys.stderr.write('\\n')"
     ],
     "language": "python",
     "metadata": {},
     "outputs": [
      {
       "output_type": "stream",
       "stream": "stderr",
       "text": [
        "key '{http://www.PureEdge.com/XFDL/Custom}LOBBYINGDISCLOSURE2' must not contain '.'\n",
        "/home/blannon/dev/influence-usa/lobbying-federal-domestic/data/transformed/house_xml/LD2/2008/Q1/300031408.json\n",
        "key '{http://www.PureEdge.com/XFDL/Custom}LOBBYINGDISCLOSURE2' must not contain '.'"
       ]
      },
      {
       "output_type": "stream",
       "stream": "stderr",
       "text": [
        "\n",
        "/home/blannon/dev/influence-usa/lobbying-federal-domestic/data/transformed/house_xml/LD2/2008/Q1/300031409.json\n",
        "key '{http://www.PureEdge.com/XFDL/Custom}LOBBYINGDISCLOSURE2' must not contain '.'"
       ]
      },
      {
       "output_type": "stream",
       "stream": "stderr",
       "text": [
        "\n",
        "/home/blannon/dev/influence-usa/lobbying-federal-domestic/data/transformed/house_xml/LD2/2007/Q4/40002580.json\n",
        "key '{http://www.PureEdge.com/XFDL/Custom}LOBBYINGDISCLOSURE2' must not contain '.'"
       ]
      },
      {
       "output_type": "stream",
       "stream": "stderr",
       "text": [
        "\n",
        "/home/blannon/dev/influence-usa/lobbying-federal-domestic/data/transformed/house_xml/LD2/2007/Q2/40002536.json\n",
        "key '{http://www.PureEdge.com/XFDL/Custom}LOBBYINGDISCLOSURE2' must not contain '.'"
       ]
      },
      {
       "output_type": "stream",
       "stream": "stderr",
       "text": [
        "\n",
        "/home/blannon/dev/influence-usa/lobbying-federal-domestic/data/transformed/house_xml/LD2/2007/Q2/40002561.json\n",
        "key '{http://www.PureEdge.com/XFDL/Custom}LOBBYINGDISCLOSURE2' must not contain '.'"
       ]
      },
      {
       "output_type": "stream",
       "stream": "stderr",
       "text": [
        "\n",
        "/home/blannon/dev/influence-usa/lobbying-federal-domestic/data/transformed/house_xml/LD2/2007/Q2/40002578.json\n",
        "key '{http://www.PureEdge.com/XFDL/Custom}LOBBYINGDISCLOSURE2' must not contain '.'"
       ]
      },
      {
       "output_type": "stream",
       "stream": "stderr",
       "text": [
        "\n",
        "/home/blannon/dev/influence-usa/lobbying-federal-domestic/data/transformed/house_xml/LD2/2007/Q2/40002557.json\n",
        "key '{http://www.PureEdge.com/XFDL/Custom}LOBBYINGDISCLOSURE2' must not contain '.'"
       ]
      },
      {
       "output_type": "stream",
       "stream": "stderr",
       "text": [
        "\n",
        "/home/blannon/dev/influence-usa/lobbying-federal-domestic/data/transformed/house_xml/LD2/2007/Q2/40002559.json\n",
        "key '{http://www.PureEdge.com/XFDL/Custom}LOBBYINGDISCLOSURE2' must not contain '.'"
       ]
      },
      {
       "output_type": "stream",
       "stream": "stderr",
       "text": [
        "\n",
        "/home/blannon/dev/influence-usa/lobbying-federal-domestic/data/transformed/house_xml/LD2/2007/Q2/40002566.json\n",
        "key '{http://www.PureEdge.com/XFDL/Custom}LOBBYINGDISCLOSURE2' must not contain '.'"
       ]
      },
      {
       "output_type": "stream",
       "stream": "stderr",
       "text": [
        "\n",
        "/home/blannon/dev/influence-usa/lobbying-federal-domestic/data/transformed/house_xml/LD2/2007/Q2/40002564.json\n",
        "key '{http://www.PureEdge.com/XFDL/Custom}LOBBYINGDISCLOSURE2' must not contain '.'"
       ]
      },
      {
       "output_type": "stream",
       "stream": "stderr",
       "text": [
        "\n",
        "/home/blannon/dev/influence-usa/lobbying-federal-domestic/data/transformed/house_xml/LD2/2007/Q2/40002571.json\n",
        "key '{http://www.PureEdge.com/XFDL/Custom}LOBBYINGDISCLOSURE2' must not contain '.'"
       ]
      },
      {
       "output_type": "stream",
       "stream": "stderr",
       "text": [
        "\n",
        "/home/blannon/dev/influence-usa/lobbying-federal-domestic/data/transformed/house_xml/LD2/2007/Q2/40002569.json\n",
        "key '{http://www.PureEdge.com/XFDL/Custom}LOBBYINGDISCLOSURE2' must not contain '.'"
       ]
      },
      {
       "output_type": "stream",
       "stream": "stderr",
       "text": [
        "\n",
        "/home/blannon/dev/influence-usa/lobbying-federal-domestic/data/transformed/house_xml/LD2/2007/Q2/40002555.json\n",
        "key '{http://www.PureEdge.com/XFDL/Custom}LOBBYINGDISCLOSURE2' must not contain '.'"
       ]
      },
      {
       "output_type": "stream",
       "stream": "stderr",
       "text": [
        "\n",
        "/home/blannon/dev/influence-usa/lobbying-federal-domestic/data/transformed/house_xml/LD2/2005/Q4/200013661.json\n",
        "key '{http://www.PureEdge.com/XFDL/Custom}LOBBYINGDISCLOSURE2' must not contain '.'"
       ]
      },
      {
       "output_type": "stream",
       "stream": "stderr",
       "text": [
        "\n",
        "/home/blannon/dev/influence-usa/lobbying-federal-domestic/data/transformed/house_xml/LD2/2005/Q4/100008084.json\n",
        "key '{http://www.PureEdge.com/XFDL/Custom}LOBBYINGDISCLOSURE2' must not contain '.'"
       ]
      },
      {
       "output_type": "stream",
       "stream": "stderr",
       "text": [
        "\n",
        "/home/blannon/dev/influence-usa/lobbying-federal-domestic/data/transformed/house_xml/LD2/2005/Q4/200013660.json\n",
        "key '{http://www.PureEdge.com/XFDL/Custom}LOBBYINGDISCLOSURE2' must not contain '.'\n",
        "/home/blannon/dev/influence-usa/lobbying-federal-domestic/data/transformed/house_xml/LD2/2005/Q4/40002576.json\n",
        "key '{http://www.PureEdge.com/XFDL/Custom}LOBBYINGDISCLOSURE2' must not contain '.'"
       ]
      },
      {
       "output_type": "stream",
       "stream": "stderr",
       "text": [
        "\n",
        "/home/blannon/dev/influence-usa/lobbying-federal-domestic/data/transformed/house_xml/LD2/2005/Q4/200013662.json\n",
        "key '{http://www.PureEdge.com/XFDL/Custom}LOBBYINGDISCLOSURE2' must not contain '.'"
       ]
      },
      {
       "output_type": "stream",
       "stream": "stderr",
       "text": [
        "\n",
        "/home/blannon/dev/influence-usa/lobbying-federal-domestic/data/transformed/house_xml/LD2/2005/Q4/8127452.json\n",
        "key '{http://www.PureEdge.com/XFDL/Custom}LOBBYINGDISCLOSURE2' must not contain '.'"
       ]
      },
      {
       "output_type": "stream",
       "stream": "stderr",
       "text": [
        "\n",
        "/home/blannon/dev/influence-usa/lobbying-federal-domestic/data/transformed/house_xml/LD2/2005/Q4/200013663.json\n",
        "key '{http://www.PureEdge.com/XFDL/Custom}LOBBYINGDISCLOSURE2' must not contain '.'"
       ]
      },
      {
       "output_type": "stream",
       "stream": "stderr",
       "text": [
        "\n",
        "/home/blannon/dev/influence-usa/lobbying-federal-domestic/data/transformed/house_xml/LD2/2005/Q2/100000919.json\n",
        "key '{http://www.PureEdge.com/XFDL/Custom}LOBBYINGDISCLOSURE2' must not contain '.'"
       ]
      },
      {
       "output_type": "stream",
       "stream": "stderr",
       "text": [
        "\n",
        "/home/blannon/dev/influence-usa/lobbying-federal-domestic/data/transformed/house_xml/LD2/2005/Q2/100000917.json\n",
        "key '{http://www.PureEdge.com/XFDL/Custom}LOBBYINGDISCLOSURE2' must not contain '.'"
       ]
      },
      {
       "output_type": "stream",
       "stream": "stderr",
       "text": [
        "\n",
        "/home/blannon/dev/influence-usa/lobbying-federal-domestic/data/transformed/house_xml/LD2/2005/Q2/100001305.json\n",
        "key '{http://www.PureEdge.com/XFDL/Custom}LOBBYINGDISCLOSURE2' must not contain '.'"
       ]
      },
      {
       "output_type": "stream",
       "stream": "stderr",
       "text": [
        "\n",
        "/home/blannon/dev/influence-usa/lobbying-federal-domestic/data/transformed/house_xml/LD2/2005/Q2/100001281.json\n",
        "key '{http://www.PureEdge.com/XFDL/Custom}LOBBYINGDISCLOSURE2' must not contain '.'\n",
        "/home/blannon/dev/influence-usa/lobbying-federal-domestic/data/transformed/house_xml/LD2/2005/Q2/100001054.json\n",
        "key '{http://www.PureEdge.com/XFDL/Custom}LOBBYINGDISCLOSURE2' must not contain '.'"
       ]
      },
      {
       "output_type": "stream",
       "stream": "stderr",
       "text": [
        "\n",
        "/home/blannon/dev/influence-usa/lobbying-federal-domestic/data/transformed/house_xml/LD2/2005/Q2/100001170.json\n",
        "key '{http://www.PureEdge.com/XFDL/Custom}LOBBYINGDISCLOSURE2' must not contain '.'"
       ]
      },
      {
       "output_type": "stream",
       "stream": "stderr",
       "text": [
        "\n",
        "/home/blannon/dev/influence-usa/lobbying-federal-domestic/data/transformed/house_xml/LD2/2005/Q2/100001327.json\n",
        "key '{http://www.PureEdge.com/XFDL/Custom}LOBBYINGDISCLOSURE2' must not contain '.'"
       ]
      },
      {
       "output_type": "stream",
       "stream": "stderr",
       "text": [
        "\n",
        "/home/blannon/dev/influence-usa/lobbying-federal-domestic/data/transformed/house_xml/LD2/2005/Q2/100000912.json\n",
        "key '{http://www.PureEdge.com/XFDL/Custom}LOBBYINGDISCLOSURE2' must not contain '.'\n",
        "/home/blannon/dev/influence-usa/lobbying-federal-domestic/data/transformed/house_xml/LD2/2005/Q2/100000920.json\n",
        "key '{http://www.PureEdge.com/XFDL/Custom}LOBBYINGDISCLOSURE2' must not contain '.'"
       ]
      },
      {
       "output_type": "stream",
       "stream": "stderr",
       "text": [
        "\n",
        "/home/blannon/dev/influence-usa/lobbying-federal-domestic/data/transformed/house_xml/LD2/2005/Q2/100000981.json\n",
        "key '{http://www.PureEdge.com/XFDL/Custom}LOBBYINGDISCLOSURE2' must not contain '.'"
       ]
      },
      {
       "output_type": "stream",
       "stream": "stderr",
       "text": [
        "\n",
        "/home/blannon/dev/influence-usa/lobbying-federal-domestic/data/transformed/house_xml/LD2/2005/Q2/100000918.json\n",
        "key '{http://www.PureEdge.com/XFDL/Custom}LOBBYINGDISCLOSURE2' must not contain '.'"
       ]
      },
      {
       "output_type": "stream",
       "stream": "stderr",
       "text": [
        "\n",
        "/home/blannon/dev/influence-usa/lobbying-federal-domestic/data/transformed/house_xml/LD2/2005/Q2/100000926.json\n",
        "key '{http://www.PureEdge.com/XFDL/Custom}LOBBYINGDISCLOSURE2' must not contain '.'"
       ]
      },
      {
       "output_type": "stream",
       "stream": "stderr",
       "text": [
        "\n",
        "/home/blannon/dev/influence-usa/lobbying-federal-domestic/data/transformed/house_xml/LD2/2005/Q2/100001243.json\n",
        "key '{http://www.PureEdge.com/XFDL/Custom}LOBBYINGDISCLOSURE2' must not contain '.'"
       ]
      },
      {
       "output_type": "stream",
       "stream": "stderr",
       "text": [
        "\n",
        "/home/blannon/dev/influence-usa/lobbying-federal-domestic/data/transformed/house_xml/LD2/2005/Q2/100001558.json\n",
        "key '{http://www.PureEdge.com/XFDL/Custom}LOBBYINGDISCLOSURE2' must not contain '.'"
       ]
      },
      {
       "output_type": "stream",
       "stream": "stderr",
       "text": [
        "\n",
        "/home/blannon/dev/influence-usa/lobbying-federal-domestic/data/transformed/house_xml/LD2/2005/Q2/100001299.json\n",
        "key '{http://www.PureEdge.com/XFDL/Custom}LOBBYINGDISCLOSURE2' must not contain '.'"
       ]
      },
      {
       "output_type": "stream",
       "stream": "stderr",
       "text": [
        "\n",
        "/home/blannon/dev/influence-usa/lobbying-federal-domestic/data/transformed/house_xml/LD2/2005/Q2/100001174.json\n",
        "key '{http://www.PureEdge.com/XFDL/Custom}LOBBYINGDISCLOSURE2' must not contain '.'"
       ]
      },
      {
       "output_type": "stream",
       "stream": "stderr",
       "text": [
        "\n",
        "/home/blannon/dev/influence-usa/lobbying-federal-domestic/data/transformed/house_xml/LD2/2005/Q2/100001556.json\n",
        "key '{http://www.PureEdge.com/XFDL/Custom}LOBBYINGDISCLOSURE2' must not contain '.'"
       ]
      },
      {
       "output_type": "stream",
       "stream": "stderr",
       "text": [
        "\n",
        "/home/blannon/dev/influence-usa/lobbying-federal-domestic/data/transformed/house_xml/LD2/2005/Q2/100000974.json\n",
        "key '{http://www.PureEdge.com/XFDL/Custom}LOBBYINGDISCLOSURE2' must not contain '.'"
       ]
      },
      {
       "output_type": "stream",
       "stream": "stderr",
       "text": [
        "\n",
        "/home/blannon/dev/influence-usa/lobbying-federal-domestic/data/transformed/house_xml/LD2/2005/Q2/100001523.json\n",
        "key '{http://www.PureEdge.com/XFDL/Custom}LOBBYINGDISCLOSURE2' must not contain '.'"
       ]
      },
      {
       "output_type": "stream",
       "stream": "stderr",
       "text": [
        "\n",
        "/home/blannon/dev/influence-usa/lobbying-federal-domestic/data/transformed/house_xml/LD2/2005/Q2/100001288.json\n",
        "key '{http://www.PureEdge.com/XFDL/Custom}LOBBYINGDISCLOSURE2' must not contain '.'"
       ]
      },
      {
       "output_type": "stream",
       "stream": "stderr",
       "text": [
        "\n",
        "/home/blannon/dev/influence-usa/lobbying-federal-domestic/data/transformed/house_xml/LD2/2005/Q2/100001456.json\n",
        "key '{http://www.PureEdge.com/XFDL/Custom}LOBBYINGDISCLOSURE2' must not contain '.'"
       ]
      },
      {
       "output_type": "stream",
       "stream": "stderr",
       "text": [
        "\n",
        "/home/blannon/dev/influence-usa/lobbying-federal-domestic/data/transformed/house_xml/LD2/2005/Q2/100001284.json\n",
        "key '{http://www.PureEdge.com/XFDL/Custom}LOBBYINGDISCLOSURE2' must not contain '.'"
       ]
      },
      {
       "output_type": "stream",
       "stream": "stderr",
       "text": [
        "\n",
        "/home/blannon/dev/influence-usa/lobbying-federal-domestic/data/transformed/house_xml/LD2/2005/Q2/100001516.json\n",
        "key '{http://www.PureEdge.com/XFDL/Custom}LOBBYINGDISCLOSURE2' must not contain '.'"
       ]
      },
      {
       "output_type": "stream",
       "stream": "stderr",
       "text": [
        "\n",
        "/home/blannon/dev/influence-usa/lobbying-federal-domestic/data/transformed/house_xml/LD2/2005/Q2/100001525.json\n",
        "key '{http://www.PureEdge.com/XFDL/Custom}LOBBYINGDISCLOSURE2' must not contain '.'"
       ]
      },
      {
       "output_type": "stream",
       "stream": "stderr",
       "text": [
        "\n",
        "/home/blannon/dev/influence-usa/lobbying-federal-domestic/data/transformed/house_xml/LD2/2005/Q2/100000804.json\n",
        "key '{http://www.PureEdge.com/XFDL/Custom}LOBBYINGDISCLOSURE2' must not contain '.'"
       ]
      },
      {
       "output_type": "stream",
       "stream": "stderr",
       "text": [
        "\n",
        "/home/blannon/dev/influence-usa/lobbying-federal-domestic/data/transformed/house_xml/LD2/2005/Q2/100000954.json\n",
        "key '{http://www.PureEdge.com/XFDL/Custom}LOBBYINGDISCLOSURE2' must not contain '.'"
       ]
      },
      {
       "output_type": "stream",
       "stream": "stderr",
       "text": [
        "\n",
        "/home/blannon/dev/influence-usa/lobbying-federal-domestic/data/transformed/house_xml/LD2/2005/Q2/100001295.json\n",
        "key '{http://www.PureEdge.com/XFDL/Custom}LOBBYINGDISCLOSURE2' must not contain '.'"
       ]
      },
      {
       "output_type": "stream",
       "stream": "stderr",
       "text": [
        "\n",
        "/home/blannon/dev/influence-usa/lobbying-federal-domestic/data/transformed/house_xml/LD2/2005/Q2/100001223.json\n",
        "key '{http://www.PureEdge.com/XFDL/Custom}LOBBYINGDISCLOSURE2' must not contain '.'\n",
        "/home/blannon/dev/influence-usa/lobbying-federal-domestic/data/transformed/house_xml/LD2/2005/Q2/100001171.json\n",
        "key '{http://www.PureEdge.com/XFDL/Custom}LOBBYINGDISCLOSURE2' must not contain '.'"
       ]
      },
      {
       "output_type": "stream",
       "stream": "stderr",
       "text": [
        "\n",
        "/home/blannon/dev/influence-usa/lobbying-federal-domestic/data/transformed/house_xml/LD2/2005/Q2/100001892.json\n",
        "key '{http://www.PureEdge.com/XFDL/Custom}LOBBYINGDISCLOSURE2' must not contain '.'"
       ]
      },
      {
       "output_type": "stream",
       "stream": "stderr",
       "text": [
        "\n",
        "/home/blannon/dev/influence-usa/lobbying-federal-domestic/data/transformed/house_xml/LD2/2005/Q2/100001011.json\n",
        "key '{http://www.PureEdge.com/XFDL/Custom}LOBBYINGDISCLOSURE2' must not contain '.'"
       ]
      },
      {
       "output_type": "stream",
       "stream": "stderr",
       "text": [
        "\n",
        "/home/blannon/dev/influence-usa/lobbying-federal-domestic/data/transformed/house_xml/LD2/2005/Q2/100001401.json\n",
        "key '{http://www.PureEdge.com/XFDL/Custom}LOBBYINGDISCLOSURE2' must not contain '.'"
       ]
      },
      {
       "output_type": "stream",
       "stream": "stderr",
       "text": [
        "\n",
        "/home/blannon/dev/influence-usa/lobbying-federal-domestic/data/transformed/house_xml/LD2/2005/Q2/8117387.json\n",
        "key '{http://www.PureEdge.com/XFDL/Custom}LOBBYINGDISCLOSURE2' must not contain '.'"
       ]
      },
      {
       "output_type": "stream",
       "stream": "stderr",
       "text": [
        "\n",
        "/home/blannon/dev/influence-usa/lobbying-federal-domestic/data/transformed/house_xml/LD2/2005/Q2/100000871.json\n",
        "key '{http://www.PureEdge.com/XFDL/Custom}LOBBYINGDISCLOSURE2' must not contain '.'"
       ]
      },
      {
       "output_type": "stream",
       "stream": "stderr",
       "text": [
        "\n",
        "/home/blannon/dev/influence-usa/lobbying-federal-domestic/data/transformed/house_xml/LD2/2005/Q2/100000983.json\n",
        "key '{http://www.PureEdge.com/XFDL/Custom}LOBBYINGDISCLOSURE2' must not contain '.'"
       ]
      },
      {
       "output_type": "stream",
       "stream": "stderr",
       "text": [
        "\n",
        "/home/blannon/dev/influence-usa/lobbying-federal-domestic/data/transformed/house_xml/LD2/2005/Q2/100000844.json\n",
        "key '{http://www.PureEdge.com/XFDL/Custom}LOBBYINGDISCLOSURE2' must not contain '.'"
       ]
      },
      {
       "output_type": "stream",
       "stream": "stderr",
       "text": [
        "\n",
        "/home/blannon/dev/influence-usa/lobbying-federal-domestic/data/transformed/house_xml/LD2/2005/Q2/40002575.json\n",
        "key '{http://www.PureEdge.com/XFDL/Custom}LOBBYINGDISCLOSURE2' must not contain '.'"
       ]
      },
      {
       "output_type": "stream",
       "stream": "stderr",
       "text": [
        "\n",
        "/home/blannon/dev/influence-usa/lobbying-federal-domestic/data/transformed/house_xml/LD2/2005/Q2/100001678.json\n",
        "key '{http://www.PureEdge.com/XFDL/Custom}LOBBYINGDISCLOSURE2' must not contain '.'"
       ]
      },
      {
       "output_type": "stream",
       "stream": "stderr",
       "text": [
        "\n",
        "/home/blannon/dev/influence-usa/lobbying-federal-domestic/data/transformed/house_xml/LD2/2005/Q2/100001216.json\n",
        "key '{http://www.PureEdge.com/XFDL/Custom}LOBBYINGDISCLOSURE2' must not contain '.'"
       ]
      },
      {
       "output_type": "stream",
       "stream": "stderr",
       "text": [
        "\n",
        "/home/blannon/dev/influence-usa/lobbying-federal-domestic/data/transformed/house_xml/LD2/2005/Q2/100001229.json\n",
        "key '{http://www.PureEdge.com/XFDL/Custom}LOBBYINGDISCLOSURE2' must not contain '.'"
       ]
      },
      {
       "output_type": "stream",
       "stream": "stderr",
       "text": [
        "\n",
        "/home/blannon/dev/influence-usa/lobbying-federal-domestic/data/transformed/house_xml/LD2/2005/Q2/100001188.json\n",
        "key '{http://www.PureEdge.com/XFDL/Custom}LOBBYINGDISCLOSURE2' must not contain '.'"
       ]
      },
      {
       "output_type": "stream",
       "stream": "stderr",
       "text": [
        "\n",
        "/home/blannon/dev/influence-usa/lobbying-federal-domestic/data/transformed/house_xml/LD2/2005/Q2/100001292.json\n",
        "key '{http://www.PureEdge.com/XFDL/Custom}LOBBYINGDISCLOSURE2' must not contain '.'"
       ]
      },
      {
       "output_type": "stream",
       "stream": "stderr",
       "text": [
        "\n",
        "/home/blannon/dev/influence-usa/lobbying-federal-domestic/data/transformed/house_xml/LD2/2005/Q2/100001557.json\n",
        "key '{http://www.PureEdge.com/XFDL/Custom}LOBBYINGDISCLOSURE2' must not contain '.'"
       ]
      },
      {
       "output_type": "stream",
       "stream": "stderr",
       "text": [
        "\n",
        "/home/blannon/dev/influence-usa/lobbying-federal-domestic/data/transformed/house_xml/LD2/2005/Q2/100000922.json\n",
        "key '{http://www.PureEdge.com/XFDL/Custom}LOBBYINGDISCLOSURE2' must not contain '.'"
       ]
      },
      {
       "output_type": "stream",
       "stream": "stderr",
       "text": [
        "\n",
        "/home/blannon/dev/influence-usa/lobbying-federal-domestic/data/transformed/house_xml/LD2/2005/Q2/100001528.json\n",
        "key '{http://www.PureEdge.com/XFDL/Custom}LOBBYINGDISCLOSURE2' must not contain '.'"
       ]
      },
      {
       "output_type": "stream",
       "stream": "stderr",
       "text": [
        "\n",
        "/home/blannon/dev/influence-usa/lobbying-federal-domestic/data/transformed/house_xml/LD2/2005/Q2/100001517.json\n",
        "key '{http://www.PureEdge.com/XFDL/Custom}LOBBYINGDISCLOSURE2' must not contain '.'"
       ]
      },
      {
       "output_type": "stream",
       "stream": "stderr",
       "text": [
        "\n",
        "/home/blannon/dev/influence-usa/lobbying-federal-domestic/data/transformed/house_xml/LD2/2006/Q4/40002579.json\n",
        "key '{http://www.PureEdge.com/XFDL/Custom}LOBBYINGDISCLOSURE2' must not contain '.'"
       ]
      },
      {
       "output_type": "stream",
       "stream": "stderr",
       "text": [
        "\n",
        "/home/blannon/dev/influence-usa/lobbying-federal-domestic/data/transformed/house_xml/LD2/2006/Q4/40002570.json\n",
        "key '{http://www.PureEdge.com/XFDL/Custom}LOBBYINGDISCLOSURE2' must not contain '.'"
       ]
      },
      {
       "output_type": "stream",
       "stream": "stderr",
       "text": [
        "\n",
        "/home/blannon/dev/influence-usa/lobbying-federal-domestic/data/transformed/house_xml/LD2/2006/Q4/40002574.json\n",
        "key '{http://www.PureEdge.com/XFDL/Custom}LOBBYINGDISCLOSURE2' must not contain '.'"
       ]
      },
      {
       "output_type": "stream",
       "stream": "stderr",
       "text": [
        "\n",
        "/home/blannon/dev/influence-usa/lobbying-federal-domestic/data/transformed/house_xml/LD2/2006/Q4/100053263.json\n",
        "key '{http://www.PureEdge.com/XFDL/Custom}LOBBYINGDISCLOSURE2' must not contain '.'"
       ]
      },
      {
       "output_type": "stream",
       "stream": "stderr",
       "text": [
        "\n",
        "/home/blannon/dev/influence-usa/lobbying-federal-domestic/data/transformed/house_xml/LD2/2006/Q4/40002563.json\n",
        "key '{http://www.PureEdge.com/XFDL/Custom}LOBBYINGDISCLOSURE2' must not contain '.'"
       ]
      },
      {
       "output_type": "stream",
       "stream": "stderr",
       "text": [
        "\n",
        "/home/blannon/dev/influence-usa/lobbying-federal-domestic/data/transformed/house_xml/LD2/2006/Q2/40002546.json\n",
        "key '{http://www.PureEdge.com/XFDL/Custom}LOBBYINGDISCLOSURE2' must not contain '.'"
       ]
      },
      {
       "output_type": "stream",
       "stream": "stderr",
       "text": [
        "\n",
        "/home/blannon/dev/influence-usa/lobbying-federal-domestic/data/transformed/house_xml/LD2/2006/Q2/40002545.json\n",
        "key '{http://www.PureEdge.com/XFDL/Custom}LOBBYINGDISCLOSURE2' must not contain '.'"
       ]
      },
      {
       "output_type": "stream",
       "stream": "stderr",
       "text": [
        "\n",
        "/home/blannon/dev/influence-usa/lobbying-federal-domestic/data/transformed/house_xml/LD2/2006/Q2/40002538.json\n",
        "key '{http://www.PureEdge.com/XFDL/Custom}LOBBYINGDISCLOSURE2' must not contain '.'\n",
        "/home/blannon/dev/influence-usa/lobbying-federal-domestic/data/transformed/house_xml/LD2/2006/Q2/40002577.json\n",
        "key '{http://www.PureEdge.com/XFDL/Custom}LOBBYINGDISCLOSURE2' must not contain '.'"
       ]
      },
      {
       "output_type": "stream",
       "stream": "stderr",
       "text": [
        "\n",
        "/home/blannon/dev/influence-usa/lobbying-federal-domestic/data/transformed/house_xml/LD2/2006/Q2/40002533.json\n",
        "key '{http://www.PureEdge.com/XFDL/Custom}LOBBYINGDISCLOSURE2' must not contain '.'"
       ]
      },
      {
       "output_type": "stream",
       "stream": "stderr",
       "text": [
        "\n",
        "/home/blannon/dev/influence-usa/lobbying-federal-domestic/data/transformed/house_xml/LD2/2006/Q2/40002541.json\n",
        "key '{http://www.PureEdge.com/XFDL/Custom}LOBBYINGDISCLOSURE2' must not contain '.'"
       ]
      },
      {
       "output_type": "stream",
       "stream": "stderr",
       "text": [
        "\n",
        "/home/blannon/dev/influence-usa/lobbying-federal-domestic/data/transformed/house_xml/LD2/2006/Q2/200013665.json\n",
        "key '{http://www.PureEdge.com/XFDL/Custom}LOBBYINGDISCLOSURE2' must not contain '.'"
       ]
      },
      {
       "output_type": "stream",
       "stream": "stderr",
       "text": [
        "\n",
        "/home/blannon/dev/influence-usa/lobbying-federal-domestic/data/transformed/house_xml/LD2/2006/Q2/40002568.json\n",
        "key '{http://www.PureEdge.com/XFDL/Custom}LOBBYINGDISCLOSURE2' must not contain '.'"
       ]
      },
      {
       "output_type": "stream",
       "stream": "stderr",
       "text": [
        "\n",
        "/home/blannon/dev/influence-usa/lobbying-federal-domestic/data/transformed/house_xml/LD2/2006/Q2/200013664.json\n",
        "key '{http://www.PureEdge.com/XFDL/Custom}LOBBYINGDISCLOSURE2' must not contain '.'"
       ]
      },
      {
       "output_type": "stream",
       "stream": "stderr",
       "text": [
        "\n",
        "/home/blannon/dev/influence-usa/lobbying-federal-domestic/data/transformed/house_xml/LD2/2006/Q2/40002534.json\n",
        "key '{http://www.PureEdge.com/XFDL/Custom}LOBBYINGDISCLOSURE2' must not contain '.'"
       ]
      },
      {
       "output_type": "stream",
       "stream": "stderr",
       "text": [
        "\n",
        "/home/blannon/dev/influence-usa/lobbying-federal-domestic/data/transformed/house_xml/LD2/2006/Q2/40002567.json\n",
        "key '{http://www.PureEdge.com/XFDL/Custom}LOBBYINGDISCLOSURE2' must not contain '.'"
       ]
      },
      {
       "output_type": "stream",
       "stream": "stderr",
       "text": [
        "\n",
        "/home/blannon/dev/influence-usa/lobbying-federal-domestic/data/transformed/house_xml/LD2/2006/Q2/40002548.json\n",
        "key '{http://www.PureEdge.com/XFDL/Custom}LOBBYINGDISCLOSURE2' must not contain '.'"
       ]
      },
      {
       "output_type": "stream",
       "stream": "stderr",
       "text": [
        "\n",
        "/home/blannon/dev/influence-usa/lobbying-federal-domestic/data/transformed/house_xml/LD2/2006/Q2/40002547.json\n",
        "key '{http://www.PureEdge.com/XFDL/Custom}LOBBYINGDISCLOSURE2' must not contain '.'"
       ]
      },
      {
       "output_type": "stream",
       "stream": "stderr",
       "text": [
        "\n",
        "/home/blannon/dev/influence-usa/lobbying-federal-domestic/data/transformed/house_xml/LD2/2006/Q2/40002543.json\n",
        "key '{http://www.PureEdge.com/XFDL/Custom}LOBBYINGDISCLOSURE2' must not contain '.'"
       ]
      },
      {
       "output_type": "stream",
       "stream": "stderr",
       "text": [
        "\n",
        "/home/blannon/dev/influence-usa/lobbying-federal-domestic/data/transformed/house_xml/LD2/2006/Q2/200013668.json\n",
        "key '{http://www.PureEdge.com/XFDL/Custom}LOBBYINGDISCLOSURE2' must not contain '.'"
       ]
      },
      {
       "output_type": "stream",
       "stream": "stderr",
       "text": [
        "\n",
        "/home/blannon/dev/influence-usa/lobbying-federal-domestic/data/transformed/house_xml/LD2/2006/Q2/40002542.json\n",
        "key '{http://www.PureEdge.com/XFDL/Custom}LOBBYINGDISCLOSURE2' must not contain '.'"
       ]
      },
      {
       "output_type": "stream",
       "stream": "stderr",
       "text": [
        "\n",
        "/home/blannon/dev/influence-usa/lobbying-federal-domestic/data/transformed/house_xml/LD2/2006/Q2/40002539.json\n",
        "key '{http://www.PureEdge.com/XFDL/Custom}LOBBYINGDISCLOSURE2' must not contain '.'"
       ]
      },
      {
       "output_type": "stream",
       "stream": "stderr",
       "text": [
        "\n",
        "/home/blannon/dev/influence-usa/lobbying-federal-domestic/data/transformed/house_xml/LD2/2006/Q2/40002535.json\n",
        "key '{http://www.PureEdge.com/XFDL/Custom}LOBBYINGDISCLOSURE2' must not contain '.'"
       ]
      },
      {
       "output_type": "stream",
       "stream": "stderr",
       "text": [
        "\n",
        "/home/blannon/dev/influence-usa/lobbying-federal-domestic/data/transformed/house_xml/LD2/2006/Q2/200013669.json\n",
        "key '{http://www.PureEdge.com/XFDL/Custom}LOBBYINGDISCLOSURE2' must not contain '.'"
       ]
      },
      {
       "output_type": "stream",
       "stream": "stderr",
       "text": [
        "\n",
        "/home/blannon/dev/influence-usa/lobbying-federal-domestic/data/transformed/house_xml/LD2/2006/Q2/40002537.json\n",
        "key '{http://www.PureEdge.com/XFDL/Custom}LOBBYINGDISCLOSURE2' must not contain '.'"
       ]
      },
      {
       "output_type": "stream",
       "stream": "stderr",
       "text": [
        "\n",
        "/home/blannon/dev/influence-usa/lobbying-federal-domestic/data/transformed/house_xml/LD2/2006/Q2/200013670.json\n",
        "key '{http://www.PureEdge.com/XFDL/Custom}LOBBYINGDISCLOSURE2' must not contain '.'"
       ]
      },
      {
       "output_type": "stream",
       "stream": "stderr",
       "text": [
        "\n",
        "/home/blannon/dev/influence-usa/lobbying-federal-domestic/data/transformed/house_xml/LD2/2006/Q2/40002540.json\n",
        "key '{http://www.PureEdge.com/XFDL/Custom}LOBBYINGDISCLOSURE2' must not contain '.'"
       ]
      },
      {
       "output_type": "stream",
       "stream": "stderr",
       "text": [
        "\n",
        "/home/blannon/dev/influence-usa/lobbying-federal-domestic/data/transformed/house_xml/LD2/2006/Q2/200013666.json\n",
        "key '{http://www.PureEdge.com/XFDL/Custom}LOBBYINGDISCLOSURE2' must not contain '.'"
       ]
      },
      {
       "output_type": "stream",
       "stream": "stderr",
       "text": [
        "\n",
        "/home/blannon/dev/influence-usa/lobbying-federal-domestic/data/transformed/house_xml/LD2/2006/Q2/40002544.json\n",
        "key '{http://www.PureEdge.com/XFDL/Custom}LOBBYINGDISCLOSURE2' must not contain '.'"
       ]
      },
      {
       "output_type": "stream",
       "stream": "stderr",
       "text": [
        "\n",
        "/home/blannon/dev/influence-usa/lobbying-federal-domestic/data/transformed/house_xml/LD2/2006/Q2/40002572.json\n",
        "key '{http://www.PureEdge.com/XFDL/Custom}LOBBYINGDISCLOSURE2' must not contain '.'"
       ]
      },
      {
       "output_type": "stream",
       "stream": "stderr",
       "text": [
        "\n",
        "/home/blannon/dev/influence-usa/lobbying-federal-domestic/data/transformed/house_xml/LD2/2006/Q2/200013667.json\n"
       ]
      }
     ],
     "prompt_number": 24
    },
    {
     "cell_type": "code",
     "collapsed": false,
     "input": [],
     "language": "python",
     "metadata": {},
     "outputs": []
    }
   ],
   "metadata": {}
  }
 ]
}